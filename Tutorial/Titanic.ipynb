{
 "cells": [
  {
   "cell_type": "markdown",
   "id": "a817fa2b",
   "metadata": {},
   "source": [
    "# Titanic - Machine Learning from Disaster"
   ]
  },
  {
   "cell_type": "markdown",
   "id": "57e24eb5",
   "metadata": {},
   "source": [
    "## Predict survival on the Titanic and get familiar with ML basics"
   ]
  },
  {
   "cell_type": "markdown",
   "id": "af707b2a",
   "metadata": {},
   "source": [
    "https://www.kaggle.com/c/titanic/data"
   ]
  },
  {
   "cell_type": "markdown",
   "id": "32a4ce8d",
   "metadata": {},
   "source": [
    "![image.png](../Images/Titanic.png)"
   ]
  },
  {
   "cell_type": "markdown",
   "id": "3156ffb0",
   "metadata": {},
   "source": [
    "#### 탐색적 데이터 분석 (EDA ; Exploratory Data Analysis) \n",
    "\n",
    "- 주어진 각 feature들의 분포 살펴보기, 생존자/사망자 별로 데이터 분리하여 살펴본다.\n",
    "- 어떤 정보를 통해 **생존율을 예측**할 수 있을 지, 가설을 세우고 실제 그래프로 검증한다."
   ]
  },
  {
   "cell_type": "markdown",
   "id": "8e539a74",
   "metadata": {},
   "source": [
    "#### [ 데이터 설명 ]\n",
    "\n",
    "- 891명의 승객에 대한 데이터 : 생존여부 / 좌석 등급 / 성별 / 나이 / 일행 / 자녀 / 운임 등의 feature\n",
    "\n",
    "|Feature|Definition|Value|\n",
    "|:------|:---------|:------------|\n",
    "|pclass|티겟 등급 (1등석, 2등석, 3등석)|1 = 1st, 2 = 2nd, 3 = 3rd|\n",
    "|name| 탑승자 이름 | 문자열\n",
    "|sex|성별| male 남성,  female 여성\n",
    "|age|나이  |((숫자))\n",
    "|sibsp|함께 탑승한 배우자, 형제자매의 수 합|   ((숫자))\n",
    "|parch|함께 탑승한 부모님, 자녀의 수 합|   ((숫자))\n",
    "|ticket| 티켓번호 | 문자열\n",
    "|fare|운임 요금 (티켓 가격)|   ((숫자))\n",
    "|cabin|선박에서 배정받은 좌석의 구역|    A, B, C, D, E, F, G, 빈 값\n",
    "|embarked|출항지 (한글자)|C = Cherbourg, Q = Queenstown, S = Southampton|\n",
    "|survived|생존 여부|0 = No, 1 = Yes|"
   ]
  },
  {
   "cell_type": "markdown",
   "id": "8c96e6c8",
   "metadata": {},
   "source": [
    "### Library & Data Import"
   ]
  },
  {
   "cell_type": "code",
   "execution_count": 1,
   "id": "338bcc83",
   "metadata": {},
   "outputs": [],
   "source": [
    "import pandas as pd\n",
    "import numpy as np"
   ]
  },
  {
   "cell_type": "code",
   "execution_count": 2,
   "id": "ce1ca005",
   "metadata": {},
   "outputs": [],
   "source": [
    "X_train = pd.read_csv('../Datasets/Titanic_X_train.csv')\n",
    "X_test = pd.read_csv('../Datasets/Titanic_X_test.csv')\n",
    "y_train = pd.read_csv('../Datasets/Titanic_y_train.csv')"
   ]
  },
  {
   "cell_type": "markdown",
   "id": "75a31889",
   "metadata": {},
   "source": [
    "### 1. Data Exploration"
   ]
  },
  {
   "cell_type": "code",
   "execution_count": 3,
   "id": "92f53f73",
   "metadata": {},
   "outputs": [
    {
     "data": {
      "text/html": [
       "<div>\n",
       "<style scoped>\n",
       "    .dataframe tbody tr th:only-of-type {\n",
       "        vertical-align: middle;\n",
       "    }\n",
       "\n",
       "    .dataframe tbody tr th {\n",
       "        vertical-align: top;\n",
       "    }\n",
       "\n",
       "    .dataframe thead th {\n",
       "        text-align: right;\n",
       "    }\n",
       "</style>\n",
       "<table border=\"1\" class=\"dataframe\">\n",
       "  <thead>\n",
       "    <tr style=\"text-align: right;\">\n",
       "      <th></th>\n",
       "      <th>ID</th>\n",
       "      <th>pclass</th>\n",
       "      <th>name</th>\n",
       "      <th>sex</th>\n",
       "      <th>age</th>\n",
       "      <th>sibsp</th>\n",
       "      <th>parch</th>\n",
       "      <th>ticket</th>\n",
       "      <th>fare</th>\n",
       "      <th>cabin</th>\n",
       "      <th>embarked</th>\n",
       "    </tr>\n",
       "  </thead>\n",
       "  <tbody>\n",
       "    <tr>\n",
       "      <th>0</th>\n",
       "      <td>1</td>\n",
       "      <td>3</td>\n",
       "      <td>Sdy*****</td>\n",
       "      <td>male</td>\n",
       "      <td>NaN</td>\n",
       "      <td>0</td>\n",
       "      <td>0</td>\n",
       "      <td>349222</td>\n",
       "      <td>7.8958</td>\n",
       "      <td>NaN</td>\n",
       "      <td>S</td>\n",
       "    </tr>\n",
       "    <tr>\n",
       "      <th>1</th>\n",
       "      <td>2</td>\n",
       "      <td>3</td>\n",
       "      <td>Pel*****</td>\n",
       "      <td>male</td>\n",
       "      <td>25.0</td>\n",
       "      <td>0</td>\n",
       "      <td>0</td>\n",
       "      <td>STON/O 2. 3101291</td>\n",
       "      <td>7.9250</td>\n",
       "      <td>NaN</td>\n",
       "      <td>S</td>\n",
       "    </tr>\n",
       "    <tr>\n",
       "      <th>2</th>\n",
       "      <td>3</td>\n",
       "      <td>3</td>\n",
       "      <td>Kar*****</td>\n",
       "      <td>male</td>\n",
       "      <td>22.0</td>\n",
       "      <td>0</td>\n",
       "      <td>0</td>\n",
       "      <td>350060</td>\n",
       "      <td>7.5208</td>\n",
       "      <td>NaN</td>\n",
       "      <td>S</td>\n",
       "    </tr>\n",
       "    <tr>\n",
       "      <th>3</th>\n",
       "      <td>4</td>\n",
       "      <td>3</td>\n",
       "      <td>Saa*****</td>\n",
       "      <td>male</td>\n",
       "      <td>NaN</td>\n",
       "      <td>0</td>\n",
       "      <td>0</td>\n",
       "      <td>2676</td>\n",
       "      <td>7.2250</td>\n",
       "      <td>NaN</td>\n",
       "      <td>C</td>\n",
       "    </tr>\n",
       "    <tr>\n",
       "      <th>4</th>\n",
       "      <td>5</td>\n",
       "      <td>3</td>\n",
       "      <td>Cor*****</td>\n",
       "      <td>male</td>\n",
       "      <td>19.0</td>\n",
       "      <td>0</td>\n",
       "      <td>0</td>\n",
       "      <td>349231</td>\n",
       "      <td>7.8958</td>\n",
       "      <td>NaN</td>\n",
       "      <td>S</td>\n",
       "    </tr>\n",
       "    <tr>\n",
       "      <th>...</th>\n",
       "      <td>...</td>\n",
       "      <td>...</td>\n",
       "      <td>...</td>\n",
       "      <td>...</td>\n",
       "      <td>...</td>\n",
       "      <td>...</td>\n",
       "      <td>...</td>\n",
       "      <td>...</td>\n",
       "      <td>...</td>\n",
       "      <td>...</td>\n",
       "      <td>...</td>\n",
       "    </tr>\n",
       "    <tr>\n",
       "      <th>780</th>\n",
       "      <td>781</td>\n",
       "      <td>1</td>\n",
       "      <td>Ear*****</td>\n",
       "      <td>female</td>\n",
       "      <td>23.0</td>\n",
       "      <td>0</td>\n",
       "      <td>1</td>\n",
       "      <td>11767</td>\n",
       "      <td>83.1583</td>\n",
       "      <td>C54</td>\n",
       "      <td>C</td>\n",
       "    </tr>\n",
       "    <tr>\n",
       "      <th>781</th>\n",
       "      <td>782</td>\n",
       "      <td>2</td>\n",
       "      <td>Har*****</td>\n",
       "      <td>female</td>\n",
       "      <td>6.0</td>\n",
       "      <td>0</td>\n",
       "      <td>1</td>\n",
       "      <td>248727</td>\n",
       "      <td>33.0000</td>\n",
       "      <td>NaN</td>\n",
       "      <td>S</td>\n",
       "    </tr>\n",
       "    <tr>\n",
       "      <th>782</th>\n",
       "      <td>783</td>\n",
       "      <td>3</td>\n",
       "      <td>Lul*****</td>\n",
       "      <td>male</td>\n",
       "      <td>27.0</td>\n",
       "      <td>0</td>\n",
       "      <td>0</td>\n",
       "      <td>315098</td>\n",
       "      <td>8.6625</td>\n",
       "      <td>NaN</td>\n",
       "      <td>S</td>\n",
       "    </tr>\n",
       "    <tr>\n",
       "      <th>783</th>\n",
       "      <td>784</td>\n",
       "      <td>3</td>\n",
       "      <td>Alb*****</td>\n",
       "      <td>male</td>\n",
       "      <td>26.0</td>\n",
       "      <td>0</td>\n",
       "      <td>0</td>\n",
       "      <td>2699</td>\n",
       "      <td>18.7875</td>\n",
       "      <td>NaN</td>\n",
       "      <td>C</td>\n",
       "    </tr>\n",
       "    <tr>\n",
       "      <th>784</th>\n",
       "      <td>785</td>\n",
       "      <td>1</td>\n",
       "      <td>Hay*****</td>\n",
       "      <td>female</td>\n",
       "      <td>24.0</td>\n",
       "      <td>0</td>\n",
       "      <td>0</td>\n",
       "      <td>11767</td>\n",
       "      <td>83.1583</td>\n",
       "      <td>C54</td>\n",
       "      <td>C</td>\n",
       "    </tr>\n",
       "  </tbody>\n",
       "</table>\n",
       "<p>785 rows × 11 columns</p>\n",
       "</div>"
      ],
      "text/plain": [
       "      ID  pclass      name     sex   age  sibsp  parch             ticket  \\\n",
       "0      1       3  Sdy*****    male   NaN      0      0             349222   \n",
       "1      2       3  Pel*****    male  25.0      0      0  STON/O 2. 3101291   \n",
       "2      3       3  Kar*****    male  22.0      0      0             350060   \n",
       "3      4       3  Saa*****    male   NaN      0      0               2676   \n",
       "4      5       3  Cor*****    male  19.0      0      0             349231   \n",
       "..   ...     ...       ...     ...   ...    ...    ...                ...   \n",
       "780  781       1  Ear*****  female  23.0      0      1              11767   \n",
       "781  782       2  Har*****  female   6.0      0      1             248727   \n",
       "782  783       3  Lul*****    male  27.0      0      0             315098   \n",
       "783  784       3  Alb*****    male  26.0      0      0               2699   \n",
       "784  785       1  Hay*****  female  24.0      0      0              11767   \n",
       "\n",
       "        fare cabin embarked  \n",
       "0     7.8958   NaN        S  \n",
       "1     7.9250   NaN        S  \n",
       "2     7.5208   NaN        S  \n",
       "3     7.2250   NaN        C  \n",
       "4     7.8958   NaN        S  \n",
       "..       ...   ...      ...  \n",
       "780  83.1583   C54        C  \n",
       "781  33.0000   NaN        S  \n",
       "782   8.6625   NaN        S  \n",
       "783  18.7875   NaN        C  \n",
       "784  83.1583   C54        C  \n",
       "\n",
       "[785 rows x 11 columns]"
      ]
     },
     "execution_count": 3,
     "metadata": {},
     "output_type": "execute_result"
    }
   ],
   "source": [
    "X_train"
   ]
  },
  {
   "cell_type": "code",
   "execution_count": 4,
   "id": "51771478",
   "metadata": {},
   "outputs": [
    {
     "data": {
      "text/html": [
       "<div>\n",
       "<style scoped>\n",
       "    .dataframe tbody tr th:only-of-type {\n",
       "        vertical-align: middle;\n",
       "    }\n",
       "\n",
       "    .dataframe tbody tr th {\n",
       "        vertical-align: top;\n",
       "    }\n",
       "\n",
       "    .dataframe thead th {\n",
       "        text-align: right;\n",
       "    }\n",
       "</style>\n",
       "<table border=\"1\" class=\"dataframe\">\n",
       "  <thead>\n",
       "    <tr style=\"text-align: right;\">\n",
       "      <th></th>\n",
       "      <th>ID</th>\n",
       "      <th>pclass</th>\n",
       "      <th>name</th>\n",
       "      <th>sex</th>\n",
       "      <th>age</th>\n",
       "      <th>sibsp</th>\n",
       "      <th>parch</th>\n",
       "      <th>ticket</th>\n",
       "      <th>fare</th>\n",
       "      <th>cabin</th>\n",
       "      <th>embarked</th>\n",
       "    </tr>\n",
       "  </thead>\n",
       "  <tbody>\n",
       "    <tr>\n",
       "      <th>0</th>\n",
       "      <td>786</td>\n",
       "      <td>1</td>\n",
       "      <td>All*****</td>\n",
       "      <td>female</td>\n",
       "      <td>2.0</td>\n",
       "      <td>1</td>\n",
       "      <td>2</td>\n",
       "      <td>113781</td>\n",
       "      <td>151.5500</td>\n",
       "      <td>C22 C26</td>\n",
       "      <td>S</td>\n",
       "    </tr>\n",
       "    <tr>\n",
       "      <th>1</th>\n",
       "      <td>787</td>\n",
       "      <td>1</td>\n",
       "      <td>And*****</td>\n",
       "      <td>male</td>\n",
       "      <td>39.0</td>\n",
       "      <td>0</td>\n",
       "      <td>0</td>\n",
       "      <td>112050</td>\n",
       "      <td>0.0000</td>\n",
       "      <td>A36</td>\n",
       "      <td>S</td>\n",
       "    </tr>\n",
       "    <tr>\n",
       "      <th>2</th>\n",
       "      <td>788</td>\n",
       "      <td>1</td>\n",
       "      <td>Bau*****</td>\n",
       "      <td>male</td>\n",
       "      <td>NaN</td>\n",
       "      <td>0</td>\n",
       "      <td>0</td>\n",
       "      <td>PC 17318</td>\n",
       "      <td>25.9250</td>\n",
       "      <td>NaN</td>\n",
       "      <td>S</td>\n",
       "    </tr>\n",
       "    <tr>\n",
       "      <th>3</th>\n",
       "      <td>789</td>\n",
       "      <td>1</td>\n",
       "      <td>Bax*****</td>\n",
       "      <td>male</td>\n",
       "      <td>24.0</td>\n",
       "      <td>0</td>\n",
       "      <td>1</td>\n",
       "      <td>PC 17558</td>\n",
       "      <td>247.5208</td>\n",
       "      <td>B58 B60</td>\n",
       "      <td>C</td>\n",
       "    </tr>\n",
       "    <tr>\n",
       "      <th>4</th>\n",
       "      <td>790</td>\n",
       "      <td>1</td>\n",
       "      <td>Bea*****</td>\n",
       "      <td>male</td>\n",
       "      <td>36.0</td>\n",
       "      <td>0</td>\n",
       "      <td>0</td>\n",
       "      <td>13050</td>\n",
       "      <td>75.2417</td>\n",
       "      <td>C6</td>\n",
       "      <td>C</td>\n",
       "    </tr>\n",
       "    <tr>\n",
       "      <th>...</th>\n",
       "      <td>...</td>\n",
       "      <td>...</td>\n",
       "      <td>...</td>\n",
       "      <td>...</td>\n",
       "      <td>...</td>\n",
       "      <td>...</td>\n",
       "      <td>...</td>\n",
       "      <td>...</td>\n",
       "      <td>...</td>\n",
       "      <td>...</td>\n",
       "      <td>...</td>\n",
       "    </tr>\n",
       "    <tr>\n",
       "      <th>519</th>\n",
       "      <td>1305</td>\n",
       "      <td>3</td>\n",
       "      <td>Sun*****</td>\n",
       "      <td>male</td>\n",
       "      <td>44.0</td>\n",
       "      <td>0</td>\n",
       "      <td>0</td>\n",
       "      <td>STON/O 2. 3101269</td>\n",
       "      <td>7.9250</td>\n",
       "      <td>NaN</td>\n",
       "      <td>S</td>\n",
       "    </tr>\n",
       "    <tr>\n",
       "      <th>520</th>\n",
       "      <td>1306</td>\n",
       "      <td>3</td>\n",
       "      <td>Tho*****</td>\n",
       "      <td>female</td>\n",
       "      <td>NaN</td>\n",
       "      <td>1</td>\n",
       "      <td>0</td>\n",
       "      <td>376564</td>\n",
       "      <td>16.1000</td>\n",
       "      <td>NaN</td>\n",
       "      <td>S</td>\n",
       "    </tr>\n",
       "    <tr>\n",
       "      <th>521</th>\n",
       "      <td>1307</td>\n",
       "      <td>3</td>\n",
       "      <td>Tou*****</td>\n",
       "      <td>male</td>\n",
       "      <td>7.0</td>\n",
       "      <td>1</td>\n",
       "      <td>1</td>\n",
       "      <td>2650</td>\n",
       "      <td>15.2458</td>\n",
       "      <td>NaN</td>\n",
       "      <td>C</td>\n",
       "    </tr>\n",
       "    <tr>\n",
       "      <th>522</th>\n",
       "      <td>1308</td>\n",
       "      <td>3</td>\n",
       "      <td>Tur*****</td>\n",
       "      <td>female</td>\n",
       "      <td>63.0</td>\n",
       "      <td>0</td>\n",
       "      <td>0</td>\n",
       "      <td>4134</td>\n",
       "      <td>9.5875</td>\n",
       "      <td>NaN</td>\n",
       "      <td>S</td>\n",
       "    </tr>\n",
       "    <tr>\n",
       "      <th>523</th>\n",
       "      <td>1309</td>\n",
       "      <td>3</td>\n",
       "      <td>Wha*****</td>\n",
       "      <td>female</td>\n",
       "      <td>38.0</td>\n",
       "      <td>0</td>\n",
       "      <td>0</td>\n",
       "      <td>2688</td>\n",
       "      <td>7.2292</td>\n",
       "      <td>NaN</td>\n",
       "      <td>C</td>\n",
       "    </tr>\n",
       "  </tbody>\n",
       "</table>\n",
       "<p>524 rows × 11 columns</p>\n",
       "</div>"
      ],
      "text/plain": [
       "       ID  pclass      name     sex   age  sibsp  parch             ticket  \\\n",
       "0     786       1  All*****  female   2.0      1      2             113781   \n",
       "1     787       1  And*****    male  39.0      0      0             112050   \n",
       "2     788       1  Bau*****    male   NaN      0      0           PC 17318   \n",
       "3     789       1  Bax*****    male  24.0      0      1           PC 17558   \n",
       "4     790       1  Bea*****    male  36.0      0      0              13050   \n",
       "..    ...     ...       ...     ...   ...    ...    ...                ...   \n",
       "519  1305       3  Sun*****    male  44.0      0      0  STON/O 2. 3101269   \n",
       "520  1306       3  Tho*****  female   NaN      1      0             376564   \n",
       "521  1307       3  Tou*****    male   7.0      1      1               2650   \n",
       "522  1308       3  Tur*****  female  63.0      0      0               4134   \n",
       "523  1309       3  Wha*****  female  38.0      0      0               2688   \n",
       "\n",
       "         fare    cabin embarked  \n",
       "0    151.5500  C22 C26        S  \n",
       "1      0.0000      A36        S  \n",
       "2     25.9250      NaN        S  \n",
       "3    247.5208  B58 B60        C  \n",
       "4     75.2417       C6        C  \n",
       "..        ...      ...      ...  \n",
       "519    7.9250      NaN        S  \n",
       "520   16.1000      NaN        S  \n",
       "521   15.2458      NaN        C  \n",
       "522    9.5875      NaN        S  \n",
       "523    7.2292      NaN        C  \n",
       "\n",
       "[524 rows x 11 columns]"
      ]
     },
     "execution_count": 4,
     "metadata": {},
     "output_type": "execute_result"
    }
   ],
   "source": [
    "X_test"
   ]
  },
  {
   "cell_type": "code",
   "execution_count": 5,
   "id": "a1db6242",
   "metadata": {},
   "outputs": [
    {
     "data": {
      "text/html": [
       "<div>\n",
       "<style scoped>\n",
       "    .dataframe tbody tr th:only-of-type {\n",
       "        vertical-align: middle;\n",
       "    }\n",
       "\n",
       "    .dataframe tbody tr th {\n",
       "        vertical-align: top;\n",
       "    }\n",
       "\n",
       "    .dataframe thead th {\n",
       "        text-align: right;\n",
       "    }\n",
       "</style>\n",
       "<table border=\"1\" class=\"dataframe\">\n",
       "  <thead>\n",
       "    <tr style=\"text-align: right;\">\n",
       "      <th></th>\n",
       "      <th>ID</th>\n",
       "      <th>survived</th>\n",
       "    </tr>\n",
       "  </thead>\n",
       "  <tbody>\n",
       "    <tr>\n",
       "      <th>0</th>\n",
       "      <td>1</td>\n",
       "      <td>0</td>\n",
       "    </tr>\n",
       "    <tr>\n",
       "      <th>1</th>\n",
       "      <td>2</td>\n",
       "      <td>0</td>\n",
       "    </tr>\n",
       "    <tr>\n",
       "      <th>2</th>\n",
       "      <td>3</td>\n",
       "      <td>0</td>\n",
       "    </tr>\n",
       "    <tr>\n",
       "      <th>3</th>\n",
       "      <td>4</td>\n",
       "      <td>0</td>\n",
       "    </tr>\n",
       "    <tr>\n",
       "      <th>4</th>\n",
       "      <td>5</td>\n",
       "      <td>0</td>\n",
       "    </tr>\n",
       "    <tr>\n",
       "      <th>...</th>\n",
       "      <td>...</td>\n",
       "      <td>...</td>\n",
       "    </tr>\n",
       "    <tr>\n",
       "      <th>780</th>\n",
       "      <td>781</td>\n",
       "      <td>1</td>\n",
       "    </tr>\n",
       "    <tr>\n",
       "      <th>781</th>\n",
       "      <td>782</td>\n",
       "      <td>1</td>\n",
       "    </tr>\n",
       "    <tr>\n",
       "      <th>782</th>\n",
       "      <td>783</td>\n",
       "      <td>1</td>\n",
       "    </tr>\n",
       "    <tr>\n",
       "      <th>783</th>\n",
       "      <td>784</td>\n",
       "      <td>1</td>\n",
       "    </tr>\n",
       "    <tr>\n",
       "      <th>784</th>\n",
       "      <td>785</td>\n",
       "      <td>1</td>\n",
       "    </tr>\n",
       "  </tbody>\n",
       "</table>\n",
       "<p>785 rows × 2 columns</p>\n",
       "</div>"
      ],
      "text/plain": [
       "      ID  survived\n",
       "0      1         0\n",
       "1      2         0\n",
       "2      3         0\n",
       "3      4         0\n",
       "4      5         0\n",
       "..   ...       ...\n",
       "780  781         1\n",
       "781  782         1\n",
       "782  783         1\n",
       "783  784         1\n",
       "784  785         1\n",
       "\n",
       "[785 rows x 2 columns]"
      ]
     },
     "execution_count": 5,
     "metadata": {},
     "output_type": "execute_result"
    }
   ],
   "source": [
    "y_train"
   ]
  },
  {
   "cell_type": "code",
   "execution_count": 6,
   "id": "08d4bc2d",
   "metadata": {},
   "outputs": [
    {
     "name": "stdout",
     "output_type": "stream",
     "text": [
      "<class 'pandas.core.frame.DataFrame'>\n",
      "RangeIndex: 785 entries, 0 to 784\n",
      "Data columns (total 11 columns):\n",
      " #   Column    Non-Null Count  Dtype  \n",
      "---  ------    --------------  -----  \n",
      " 0   ID        785 non-null    int64  \n",
      " 1   pclass    785 non-null    int64  \n",
      " 2   name      785 non-null    object \n",
      " 3   sex       785 non-null    object \n",
      " 4   age       628 non-null    float64\n",
      " 5   sibsp     785 non-null    int64  \n",
      " 6   parch     785 non-null    int64  \n",
      " 7   ticket    785 non-null    object \n",
      " 8   fare      784 non-null    float64\n",
      " 9   cabin     171 non-null    object \n",
      " 10  embarked  784 non-null    object \n",
      "dtypes: float64(2), int64(4), object(5)\n",
      "memory usage: 67.6+ KB\n"
     ]
    }
   ],
   "source": [
    "X_train.info()"
   ]
  },
  {
   "cell_type": "code",
   "execution_count": 7,
   "id": "107691f2",
   "metadata": {},
   "outputs": [
    {
     "name": "stdout",
     "output_type": "stream",
     "text": [
      "<class 'pandas.core.frame.DataFrame'>\n",
      "RangeIndex: 524 entries, 0 to 523\n",
      "Data columns (total 11 columns):\n",
      " #   Column    Non-Null Count  Dtype  \n",
      "---  ------    --------------  -----  \n",
      " 0   ID        524 non-null    int64  \n",
      " 1   pclass    524 non-null    int64  \n",
      " 2   name      524 non-null    object \n",
      " 3   sex       524 non-null    object \n",
      " 4   age       418 non-null    float64\n",
      " 5   sibsp     524 non-null    int64  \n",
      " 6   parch     524 non-null    int64  \n",
      " 7   ticket    524 non-null    object \n",
      " 8   fare      524 non-null    float64\n",
      " 9   cabin     124 non-null    object \n",
      " 10  embarked  523 non-null    object \n",
      "dtypes: float64(2), int64(4), object(5)\n",
      "memory usage: 45.2+ KB\n"
     ]
    }
   ],
   "source": [
    "X_test.info()"
   ]
  },
  {
   "cell_type": "markdown",
   "id": "a78eee95",
   "metadata": {},
   "source": [
    "### 2. Data Preprocessing"
   ]
  },
  {
   "cell_type": "markdown",
   "id": "c24f0b69",
   "metadata": {},
   "source": [
    "#### (1) 상관관계가 낮은 변수 삭제"
   ]
  },
  {
   "cell_type": "code",
   "execution_count": 8,
   "id": "a5064a76",
   "metadata": {},
   "outputs": [],
   "source": [
    "# ID 컬럼은 탑승자에 대한 고유 정보로 key 역할로 모델에는 불필요함\n",
    "# 결과 제출 시에는 X_test의 ID 컬럼이 필요하기 때문에 별도 저장\n",
    "ID = X_test['ID'].copy()\n",
    "\n",
    "# name은 텍스트 전처리 등의 방법으로 분석 가능하기도 하지만 편의상 제외\n",
    "# 데이터들에서 ID, name 컬럼 삭제\n",
    "\n",
    "# 또한, age, ticket는 survived와 상관관계가 낮으므로 컬럼을 삭제\n",
    "X_train = X_train.drop(columns = ['ID', 'name', 'age', 'ticket'])\n",
    "X_test = X_test.drop(columns = ['ID', 'name', 'age', 'ticket'])\n",
    "y_train = y_train.drop(columns = ['ID'])"
   ]
  },
  {
   "cell_type": "markdown",
   "id": "50eb4233",
   "metadata": {},
   "source": [
    "#### (2) Missing Value"
   ]
  },
  {
   "cell_type": "code",
   "execution_count": 9,
   "id": "87788b6e",
   "metadata": {},
   "outputs": [],
   "source": [
    "# fare는 티켓요금을 의미하고 train에만 결측치가 1개 존재하므로 레코드를 삭제\n",
    "\n",
    "# 결측일 조건\n",
    "cond_na = X_train['fare'].isna()\n",
    "\n",
    "# 행 삭제\n",
    "X_train = X_train[~cond_na]\n",
    "y_train = y_train[~cond_na]"
   ]
  },
  {
   "cell_type": "code",
   "execution_count": 10,
   "id": "5d8f108e",
   "metadata": {},
   "outputs": [],
   "source": [
    "####### cabin 컬럼(train 614, test 400 결측)\n",
    "# cabin는 선실번호를 의미하고 train은 레코드의 78%, test는 레코드의 76%가 결측이므로 컬럼을 삭제\n",
    "\n",
    "# cabin 컬럼을 삭제\n",
    "X_train = X_train.drop('cabin', axis = 1)\n",
    "X_test = X_test.drop('cabin', axis = 1)"
   ]
  },
  {
   "cell_type": "code",
   "execution_count": 11,
   "id": "20a2e297",
   "metadata": {},
   "outputs": [],
   "source": [
    "####### embarked 컬럼(train 1, test 1 결측)\n",
    "# embarked는 탑승한 곳을 의미하고 범주형으로 최다빈도를 가지는 범주로 대체\n",
    "\n",
    "# 최다빈도\n",
    "top = X_train['embarked'].value_counts().idxmax()\n",
    "\n",
    "# 대치\n",
    "X_train['embarked'] = X_train['embarked'].fillna(top)\n",
    "X_test['embarked'] = X_test['embarked'].fillna(top)"
   ]
  },
  {
   "cell_type": "code",
   "execution_count": 12,
   "id": "c333cc29",
   "metadata": {},
   "outputs": [],
   "source": [
    "# train, test 모두 'F'를 'female'로 통일\n",
    "X_train['sex'] = X_train['sex'].map({'male':'male', 'female':'female', 'F':'female'})\n",
    "X_test['sex'] = X_test['sex'].map({'male':'male', 'female':'female', 'F':'female'})"
   ]
  },
  {
   "cell_type": "code",
   "execution_count": 13,
   "id": "733806b4",
   "metadata": {},
   "outputs": [],
   "source": [
    "####### pclass 컬럼\n",
    "# 수치형으로 인식되지만 1,2,3등석 정보를 각 1,2,3으로 저장한 것으로 카테고리의 의미를 가지는 컬럼\n",
    "# dtype 변경 후 파생변수 pclass_gp에 할당하고 기존 컬럼 삭제\n",
    "X_train['pclass_gp'] = X_train['pclass'].astype('object')\n",
    "X_test['pclass_gp'] = X_test['pclass'].astype('object')\n",
    "\n",
    "# 완료 후 삭제\n",
    "X_train = X_train.drop('pclass', axis = 1)\n",
    "X_test = X_test.drop('pclass', axis = 1)\n",
    "\n",
    "####### sibsp, parch 컬럼\n",
    "# sibsp는 동승한 형제 또는 배우자의 수, parch는 동승한 부모 또는 자녀의 수이므로\n",
    "# 두 컬럼을 합한 파생변수 fam을 생성하고 이는 동승한 가족 인원을 의미\n",
    "X_train['fam'] = X_train['sibsp'] + X_train['parch']\n",
    "X_test['fam'] = X_test['sibsp'] + X_test['parch']\n",
    "\n",
    "# 완료 후 삭제\n",
    "X_train = X_train.drop(['sibsp', 'parch'], axis = 1)\n",
    "X_test = X_test.drop(['sibsp', 'parch'], axis = 1)"
   ]
  },
  {
   "cell_type": "code",
   "execution_count": 14,
   "id": "0b4bdc93",
   "metadata": {},
   "outputs": [
    {
     "name": "stdout",
     "output_type": "stream",
     "text": [
      "<class 'pandas.core.frame.DataFrame'>\n",
      "Int64Index: 784 entries, 0 to 784\n",
      "Data columns (total 5 columns):\n",
      " #   Column     Non-Null Count  Dtype  \n",
      "---  ------     --------------  -----  \n",
      " 0   sex        784 non-null    object \n",
      " 1   fare       784 non-null    float64\n",
      " 2   embarked   784 non-null    object \n",
      " 3   pclass_gp  784 non-null    object \n",
      " 4   fam        784 non-null    int64  \n",
      "dtypes: float64(1), int64(1), object(3)\n",
      "memory usage: 36.8+ KB\n"
     ]
    }
   ],
   "source": [
    "X_train.info()"
   ]
  },
  {
   "cell_type": "code",
   "execution_count": 15,
   "id": "0ce5c50a",
   "metadata": {},
   "outputs": [
    {
     "data": {
      "text/plain": [
       "(784, 5)"
      ]
     },
     "execution_count": 15,
     "metadata": {},
     "output_type": "execute_result"
    }
   ],
   "source": [
    "X_train.shape"
   ]
  },
  {
   "cell_type": "code",
   "execution_count": 16,
   "id": "b6979303",
   "metadata": {},
   "outputs": [
    {
     "name": "stdout",
     "output_type": "stream",
     "text": [
      "<class 'pandas.core.frame.DataFrame'>\n",
      "RangeIndex: 524 entries, 0 to 523\n",
      "Data columns (total 5 columns):\n",
      " #   Column     Non-Null Count  Dtype  \n",
      "---  ------     --------------  -----  \n",
      " 0   sex        524 non-null    object \n",
      " 1   fare       524 non-null    float64\n",
      " 2   embarked   524 non-null    object \n",
      " 3   pclass_gp  524 non-null    object \n",
      " 4   fam        524 non-null    int64  \n",
      "dtypes: float64(1), int64(1), object(3)\n",
      "memory usage: 20.6+ KB\n"
     ]
    }
   ],
   "source": [
    "X_test.info()"
   ]
  },
  {
   "cell_type": "markdown",
   "id": "d55a9351",
   "metadata": {},
   "source": [
    "### 3. Data Modeling"
   ]
  },
  {
   "cell_type": "code",
   "execution_count": 17,
   "id": "7b4ff8ac",
   "metadata": {},
   "outputs": [],
   "source": [
    "from sklearn.preprocessing import OneHotEncoder\n",
    "\n",
    "X_train_cat = X_train.select_dtypes('object').copy()\n",
    "X_test_cat =  X_test.select_dtypes('object').copy()\n",
    "\n",
    "ohe = OneHotEncoder(sparse=False)\n",
    "\n",
    "ohe.fit(X_train_cat)\n",
    "\n",
    "X_train_ohe = ohe.transform(X_train_cat)\n",
    "X_test_ohe = ohe.transform(X_test_cat)"
   ]
  },
  {
   "cell_type": "markdown",
   "id": "4c784288",
   "metadata": {},
   "source": [
    "#### (2) Scaling"
   ]
  },
  {
   "cell_type": "code",
   "execution_count": 18,
   "id": "6ccf89f1",
   "metadata": {},
   "outputs": [],
   "source": [
    "from sklearn.preprocessing import MinMaxScaler\n",
    "\n",
    "X_train_num = X_train.select_dtypes(exclude='object').copy()\n",
    "X_test_num = X_test.select_dtypes(exclude='object').copy()\n",
    "\n",
    "scaler = MinMaxScaler()\n",
    "\n",
    "scaler.fit(X_train_num)\n",
    "\n",
    "X_train_sca = scaler.transform(X_train_num)\n",
    "X_test_sca = scaler.transform(X_test_num)"
   ]
  },
  {
   "cell_type": "markdown",
   "id": "6d8fb990",
   "metadata": {},
   "source": [
    "#### (3) Data Concat & Split"
   ]
  },
  {
   "cell_type": "code",
   "execution_count": 19,
   "id": "1c895ae7",
   "metadata": {},
   "outputs": [
    {
     "name": "stdout",
     "output_type": "stream",
     "text": [
      "<class 'numpy.ndarray'> <class 'numpy.ndarray'> <class 'pandas.core.series.Series'>\n",
      "(784, 10) (524, 10) (784,)\n"
     ]
    }
   ],
   "source": [
    "X_TRAIN = np.concatenate([X_train_ohe, X_train_sca], axis=1)\n",
    "X_TEST = np.concatenate([X_test_ohe, X_test_sca], axis=1)\n",
    "\n",
    "y_TRAIN = y_train['survived']\n",
    "\n",
    "print(type(X_TRAIN), type(X_TEST), type(y_TRAIN))\n",
    "print(X_TRAIN.shape, X_TEST.shape, y_TRAIN.shape)"
   ]
  },
  {
   "cell_type": "code",
   "execution_count": 20,
   "id": "70263aba",
   "metadata": {},
   "outputs": [
    {
     "name": "stdout",
     "output_type": "stream",
     "text": [
      "(588, 10) (196, 10) (588,) (196,)\n"
     ]
    }
   ],
   "source": [
    "from sklearn.model_selection import train_test_split\n",
    "\n",
    "xtrain, xtest, ytrain, ytest = train_test_split(X_TRAIN, y_TRAIN, test_size = 0.25, stratify=y_TRAIN, random_state=1234)\n",
    "\n",
    "print(xtrain.shape, xtest.shape, ytrain.shape, ytest.shape)"
   ]
  },
  {
   "cell_type": "markdown",
   "id": "156ac772",
   "metadata": {},
   "source": [
    "### 4. Modeling"
   ]
  },
  {
   "cell_type": "code",
   "execution_count": 21,
   "id": "c367d99d",
   "metadata": {},
   "outputs": [],
   "source": [
    "from sklearn.linear_model import LogisticRegression\n",
    "from sklearn.tree import DecisionTreeClassifier\n",
    "from sklearn.ensemble import RandomForestClassifier\n",
    "from xgboost import XGBClassifier"
   ]
  },
  {
   "cell_type": "code",
   "execution_count": 22,
   "id": "dc2eadb5",
   "metadata": {},
   "outputs": [],
   "source": [
    "def make_models(xtrain, xtest, ytrain, ytest):\n",
    "    model1 = LogisticRegression().fit(xtrain, ytrain)\n",
    "    print('model1', get_scores(model1, xtrain, xtest, ytrain, ytest))\n",
    "\n",
    "    model2 = DecisionTreeClassifier(random_state=0).fit(xtrain, ytrain)\n",
    "    print('model2', get_scores(model2, xtrain, xtest, ytrain, ytest))\n",
    "\n",
    "    for d in range(3, 8):\n",
    "        model2 = DecisionTreeClassifier(max_depth=d, random_state=0).fit(xtrain, ytrain)\n",
    "        print('model2', d, get_scores(model2, xtrain, xtest, ytrain, ytest))\n",
    "\n",
    "    model3 = RandomForestClassifier(random_state=0).fit(xtrain, ytrain)\n",
    "    print('model3', get_scores(model3, xtrain, xtest, ytrain, ytest))\n",
    "\n",
    "    for d in range(3, 8):\n",
    "        model3 = RandomForestClassifier(500, max_depth=d, random_state=0).fit(xtrain, ytrain)\n",
    "        print('model3', d, get_scores(model3, xtrain, xtest, ytrain, ytest))\n",
    "\n",
    "    model4 = XGBClassifier(eval_metric='logloss').fit(xtrain, ytrain)\n",
    "    print('model4', get_scores(model4, xtrain, xtest, ytrain, ytest))"
   ]
  },
  {
   "cell_type": "markdown",
   "id": "e6887840",
   "metadata": {},
   "source": [
    "### 5. Model Evaluation"
   ]
  },
  {
   "cell_type": "code",
   "execution_count": 23,
   "id": "01b2db75",
   "metadata": {},
   "outputs": [],
   "source": [
    "from sklearn.metrics import roc_auc_score\n",
    "\n",
    "def get_scores(model, xtrain, xtest, ytrain, ytest):\n",
    "    A = model.score(xtrain, ytrain)\n",
    "    \n",
    "    ypred = model.predict_proba(xtest)[:, 1]\n",
    "    \n",
    "    B = roc_auc_score(ytest, ypred)\n",
    "    \n",
    "    return f'{A:.4} {B:.4}'"
   ]
  },
  {
   "cell_type": "code",
   "execution_count": 24,
   "id": "1073fbf6",
   "metadata": {},
   "outputs": [
    {
     "name": "stdout",
     "output_type": "stream",
     "text": [
      "model1 0.7891 0.8382\n",
      "model2 0.9286 0.7267\n",
      "model2 3 0.8248 0.8014\n",
      "model2 4 0.8265 0.7928\n",
      "model2 5 0.8282 0.7929\n",
      "model2 6 0.8401 0.7735\n",
      "model2 7 0.8503 0.7617\n",
      "model3 0.9286 0.7963\n",
      "model3 3 0.8078 0.8266\n",
      "model3 4 0.8282 0.8338\n",
      "model3 5 0.8299 0.8245\n",
      "model3 6 0.8588 0.8273\n",
      "model3 7 0.8776 0.8206\n",
      "model4 0.9184 0.8051\n"
     ]
    }
   ],
   "source": [
    "make_models(xtrain, xtest, ytrain, ytest)"
   ]
  },
  {
   "cell_type": "code",
   "execution_count": 25,
   "id": "7f3073c0",
   "metadata": {},
   "outputs": [
    {
     "name": "stdout",
     "output_type": "stream",
     "text": [
      "final model 0.8248 0.8337\n"
     ]
    }
   ],
   "source": [
    "final_model = RandomForestClassifier(max_depth=4, random_state=0).fit(xtrain, ytrain)\n",
    "\n",
    "print('final model', get_scores(final_model, xtrain, xtest, ytrain, ytest))"
   ]
  },
  {
   "cell_type": "markdown",
   "id": "955f9d98",
   "metadata": {},
   "source": [
    "### 6. Save Result"
   ]
  },
  {
   "cell_type": "code",
   "execution_count": 26,
   "id": "8414d671",
   "metadata": {},
   "outputs": [],
   "source": [
    "y_pred = final_model.predict(X_TEST)\n",
    "\n",
    "obj = {'ID' : ID,\n",
    "       'survived' : y_pred}\n",
    "\n",
    "result = pd.DataFrame(obj)\n",
    "result.to_csv(\"./result.csv\", index = False)"
   ]
  }
 ],
 "metadata": {
  "kernelspec": {
   "display_name": "Python 3 (ipykernel)",
   "language": "python",
   "name": "python3"
  },
  "language_info": {
   "codemirror_mode": {
    "name": "ipython",
    "version": 3
   },
   "file_extension": ".py",
   "mimetype": "text/x-python",
   "name": "python",
   "nbconvert_exporter": "python",
   "pygments_lexer": "ipython3",
   "version": "3.9.13"
  }
 },
 "nbformat": 4,
 "nbformat_minor": 5
}
