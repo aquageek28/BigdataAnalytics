{
 "cells": [
  {
   "cell_type": "markdown",
   "id": "fca1bf5d",
   "metadata": {},
   "source": [
    "# HR Analytics: Job Change of Data Scientists"
   ]
  },
  {
   "cell_type": "markdown",
   "id": "ed065ff9",
   "metadata": {},
   "source": [
    "### Predict who will move to a new job"
   ]
  },
  {
   "cell_type": "markdown",
   "id": "e506bf2f",
   "metadata": {},
   "source": [
    "https://www.kaggle.com/datasets/arashnic/hr-analytics-job-change-of-data-scientists"
   ]
  },
  {
   "cell_type": "markdown",
   "id": "b1c8f9dd",
   "metadata": {},
   "source": [
    "![image.png](../Images/Job.png)"
   ]
  },
  {
   "cell_type": "markdown",
   "id": "d895f926",
   "metadata": {},
   "source": [
    "주어진 데이터를 이용하여 예측 모형을 만들고 csv 파일로 저장하시오."
   ]
  },
  {
   "cell_type": "markdown",
   "id": "d5479a2a",
   "metadata": {},
   "source": [
    "### Library & Data Import"
   ]
  },
  {
   "cell_type": "code",
   "execution_count": 1,
   "id": "646b8af1",
   "metadata": {},
   "outputs": [],
   "source": [
    "import pandas as pd\n",
    "import numpy as np"
   ]
  },
  {
   "cell_type": "code",
   "execution_count": 2,
   "id": "226d6c15",
   "metadata": {},
   "outputs": [],
   "source": [
    "X_train = pd.read_csv('../Datasets/Job_X_train.csv')\n",
    "X_test = pd.read_csv('../Datasets/Job_X_test.csv')\n",
    "y_train = pd.read_csv('../Datasets/Job_y_train.csv')"
   ]
  },
  {
   "cell_type": "markdown",
   "id": "985e2adc",
   "metadata": {},
   "source": [
    "### 1. Data Exploration"
   ]
  },
  {
   "cell_type": "code",
   "execution_count": 3,
   "id": "4b8514f4",
   "metadata": {},
   "outputs": [
    {
     "data": {
      "text/html": [
       "<div>\n",
       "<style scoped>\n",
       "    .dataframe tbody tr th:only-of-type {\n",
       "        vertical-align: middle;\n",
       "    }\n",
       "\n",
       "    .dataframe tbody tr th {\n",
       "        vertical-align: top;\n",
       "    }\n",
       "\n",
       "    .dataframe thead th {\n",
       "        text-align: right;\n",
       "    }\n",
       "</style>\n",
       "<table border=\"1\" class=\"dataframe\">\n",
       "  <thead>\n",
       "    <tr style=\"text-align: right;\">\n",
       "      <th></th>\n",
       "      <th>enrollee_id</th>\n",
       "      <th>city</th>\n",
       "      <th>city_development_index</th>\n",
       "      <th>gender</th>\n",
       "      <th>relevent_experience</th>\n",
       "      <th>enrolled_university</th>\n",
       "      <th>education_level</th>\n",
       "      <th>major_discipline</th>\n",
       "      <th>experience</th>\n",
       "      <th>company_size</th>\n",
       "      <th>company_type</th>\n",
       "      <th>last_new_job</th>\n",
       "      <th>training_hours</th>\n",
       "    </tr>\n",
       "  </thead>\n",
       "  <tbody>\n",
       "    <tr>\n",
       "      <th>0</th>\n",
       "      <td>6424</td>\n",
       "      <td>city_75</td>\n",
       "      <td>0.939</td>\n",
       "      <td>Male</td>\n",
       "      <td>Has</td>\n",
       "      <td>No</td>\n",
       "      <td>Graduate</td>\n",
       "      <td>STEM</td>\n",
       "      <td>10</td>\n",
       "      <td>50-99</td>\n",
       "      <td>Pvt Ltd</td>\n",
       "      <td>1</td>\n",
       "      <td>176</td>\n",
       "    </tr>\n",
       "    <tr>\n",
       "      <th>1</th>\n",
       "      <td>18304</td>\n",
       "      <td>city_64</td>\n",
       "      <td>0.666</td>\n",
       "      <td>Male</td>\n",
       "      <td>No</td>\n",
       "      <td>Full</td>\n",
       "      <td>High</td>\n",
       "      <td>NaN</td>\n",
       "      <td>2</td>\n",
       "      <td>NaN</td>\n",
       "      <td>NaN</td>\n",
       "      <td>1</td>\n",
       "      <td>110</td>\n",
       "    </tr>\n",
       "    <tr>\n",
       "      <th>2</th>\n",
       "      <td>22515</td>\n",
       "      <td>city_103</td>\n",
       "      <td>0.920</td>\n",
       "      <td>Male</td>\n",
       "      <td>No</td>\n",
       "      <td>Full</td>\n",
       "      <td>High</td>\n",
       "      <td>NaN</td>\n",
       "      <td>4</td>\n",
       "      <td>NaN</td>\n",
       "      <td>NaN</td>\n",
       "      <td>never</td>\n",
       "      <td>44</td>\n",
       "    </tr>\n",
       "    <tr>\n",
       "      <th>3</th>\n",
       "      <td>15878</td>\n",
       "      <td>city_16</td>\n",
       "      <td>0.910</td>\n",
       "      <td>Male</td>\n",
       "      <td>Has</td>\n",
       "      <td>No</td>\n",
       "      <td>Graduate</td>\n",
       "      <td>STEM</td>\n",
       "      <td>8</td>\n",
       "      <td>50-99</td>\n",
       "      <td>Early Stage Startup</td>\n",
       "      <td>1</td>\n",
       "      <td>82</td>\n",
       "    </tr>\n",
       "    <tr>\n",
       "      <th>4</th>\n",
       "      <td>22128</td>\n",
       "      <td>city_103</td>\n",
       "      <td>0.920</td>\n",
       "      <td>Male</td>\n",
       "      <td>Has</td>\n",
       "      <td>No</td>\n",
       "      <td>Graduate</td>\n",
       "      <td>STEM</td>\n",
       "      <td>6</td>\n",
       "      <td>10000+</td>\n",
       "      <td>Pvt Ltd</td>\n",
       "      <td>1</td>\n",
       "      <td>70</td>\n",
       "    </tr>\n",
       "    <tr>\n",
       "      <th>...</th>\n",
       "      <td>...</td>\n",
       "      <td>...</td>\n",
       "      <td>...</td>\n",
       "      <td>...</td>\n",
       "      <td>...</td>\n",
       "      <td>...</td>\n",
       "      <td>...</td>\n",
       "      <td>...</td>\n",
       "      <td>...</td>\n",
       "      <td>...</td>\n",
       "      <td>...</td>\n",
       "      <td>...</td>\n",
       "      <td>...</td>\n",
       "    </tr>\n",
       "    <tr>\n",
       "      <th>10058</th>\n",
       "      <td>28053</td>\n",
       "      <td>city_21</td>\n",
       "      <td>0.624</td>\n",
       "      <td>Male</td>\n",
       "      <td>No</td>\n",
       "      <td>Full</td>\n",
       "      <td>Graduate</td>\n",
       "      <td>STEM</td>\n",
       "      <td>4</td>\n",
       "      <td>NaN</td>\n",
       "      <td>NaN</td>\n",
       "      <td>never</td>\n",
       "      <td>34</td>\n",
       "    </tr>\n",
       "    <tr>\n",
       "      <th>10059</th>\n",
       "      <td>28108</td>\n",
       "      <td>city_103</td>\n",
       "      <td>0.920</td>\n",
       "      <td>Male</td>\n",
       "      <td>Has</td>\n",
       "      <td>No</td>\n",
       "      <td>Phd</td>\n",
       "      <td>STEM</td>\n",
       "      <td>&gt;20</td>\n",
       "      <td>NaN</td>\n",
       "      <td>NaN</td>\n",
       "      <td>1</td>\n",
       "      <td>72</td>\n",
       "    </tr>\n",
       "    <tr>\n",
       "      <th>10060</th>\n",
       "      <td>58</td>\n",
       "      <td>city_21</td>\n",
       "      <td>0.624</td>\n",
       "      <td>Male</td>\n",
       "      <td>Has</td>\n",
       "      <td>Full</td>\n",
       "      <td>High</td>\n",
       "      <td>NaN</td>\n",
       "      <td>3</td>\n",
       "      <td>NaN</td>\n",
       "      <td>Pvt Ltd</td>\n",
       "      <td>never</td>\n",
       "      <td>53</td>\n",
       "    </tr>\n",
       "    <tr>\n",
       "      <th>10061</th>\n",
       "      <td>11305</td>\n",
       "      <td>city_103</td>\n",
       "      <td>0.920</td>\n",
       "      <td>Male</td>\n",
       "      <td>No</td>\n",
       "      <td>Full</td>\n",
       "      <td>Graduate</td>\n",
       "      <td>STEM</td>\n",
       "      <td>6</td>\n",
       "      <td>NaN</td>\n",
       "      <td>NaN</td>\n",
       "      <td>1</td>\n",
       "      <td>166</td>\n",
       "    </tr>\n",
       "    <tr>\n",
       "      <th>10062</th>\n",
       "      <td>21806</td>\n",
       "      <td>city_83</td>\n",
       "      <td>0.923</td>\n",
       "      <td>Male</td>\n",
       "      <td>Has</td>\n",
       "      <td>No</td>\n",
       "      <td>Graduate</td>\n",
       "      <td>STEM</td>\n",
       "      <td>19</td>\n",
       "      <td>NaN</td>\n",
       "      <td>NaN</td>\n",
       "      <td>&gt;4</td>\n",
       "      <td>30</td>\n",
       "    </tr>\n",
       "  </tbody>\n",
       "</table>\n",
       "<p>10063 rows × 13 columns</p>\n",
       "</div>"
      ],
      "text/plain": [
       "       enrollee_id      city  city_development_index gender  \\\n",
       "0             6424   city_75                   0.939   Male   \n",
       "1            18304   city_64                   0.666   Male   \n",
       "2            22515  city_103                   0.920   Male   \n",
       "3            15878   city_16                   0.910   Male   \n",
       "4            22128  city_103                   0.920   Male   \n",
       "...            ...       ...                     ...    ...   \n",
       "10058        28053   city_21                   0.624   Male   \n",
       "10059        28108  city_103                   0.920   Male   \n",
       "10060           58   city_21                   0.624   Male   \n",
       "10061        11305  city_103                   0.920   Male   \n",
       "10062        21806   city_83                   0.923   Male   \n",
       "\n",
       "      relevent_experience enrolled_university education_level  \\\n",
       "0                     Has                  No        Graduate   \n",
       "1                      No                Full            High   \n",
       "2                      No                Full            High   \n",
       "3                     Has                  No        Graduate   \n",
       "4                     Has                  No        Graduate   \n",
       "...                   ...                 ...             ...   \n",
       "10058                  No                Full        Graduate   \n",
       "10059                 Has                  No             Phd   \n",
       "10060                 Has                Full            High   \n",
       "10061                  No                Full        Graduate   \n",
       "10062                 Has                  No        Graduate   \n",
       "\n",
       "      major_discipline experience company_size         company_type  \\\n",
       "0                 STEM         10        50-99              Pvt Ltd   \n",
       "1                  NaN          2          NaN                  NaN   \n",
       "2                  NaN          4          NaN                  NaN   \n",
       "3                 STEM          8        50-99  Early Stage Startup   \n",
       "4                 STEM          6       10000+              Pvt Ltd   \n",
       "...                ...        ...          ...                  ...   \n",
       "10058             STEM          4          NaN                  NaN   \n",
       "10059             STEM        >20          NaN                  NaN   \n",
       "10060              NaN          3          NaN              Pvt Ltd   \n",
       "10061             STEM          6          NaN                  NaN   \n",
       "10062             STEM         19          NaN                  NaN   \n",
       "\n",
       "      last_new_job  training_hours  \n",
       "0                1             176  \n",
       "1                1             110  \n",
       "2            never              44  \n",
       "3                1              82  \n",
       "4                1              70  \n",
       "...            ...             ...  \n",
       "10058        never              34  \n",
       "10059            1              72  \n",
       "10060        never              53  \n",
       "10061            1             166  \n",
       "10062           >4              30  \n",
       "\n",
       "[10063 rows x 13 columns]"
      ]
     },
     "execution_count": 3,
     "metadata": {},
     "output_type": "execute_result"
    }
   ],
   "source": [
    "X_train"
   ]
  },
  {
   "cell_type": "code",
   "execution_count": 4,
   "id": "d754beef",
   "metadata": {},
   "outputs": [
    {
     "data": {
      "text/html": [
       "<div>\n",
       "<style scoped>\n",
       "    .dataframe tbody tr th:only-of-type {\n",
       "        vertical-align: middle;\n",
       "    }\n",
       "\n",
       "    .dataframe tbody tr th {\n",
       "        vertical-align: top;\n",
       "    }\n",
       "\n",
       "    .dataframe thead th {\n",
       "        text-align: right;\n",
       "    }\n",
       "</style>\n",
       "<table border=\"1\" class=\"dataframe\">\n",
       "  <thead>\n",
       "    <tr style=\"text-align: right;\">\n",
       "      <th></th>\n",
       "      <th>enrollee_id</th>\n",
       "      <th>city</th>\n",
       "      <th>city_development_index</th>\n",
       "      <th>gender</th>\n",
       "      <th>relevent_experience</th>\n",
       "      <th>enrolled_university</th>\n",
       "      <th>education_level</th>\n",
       "      <th>major_discipline</th>\n",
       "      <th>experience</th>\n",
       "      <th>company_size</th>\n",
       "      <th>company_type</th>\n",
       "      <th>last_new_job</th>\n",
       "      <th>training_hours</th>\n",
       "    </tr>\n",
       "  </thead>\n",
       "  <tbody>\n",
       "    <tr>\n",
       "      <th>0</th>\n",
       "      <td>666</td>\n",
       "      <td>city_162</td>\n",
       "      <td>0.767</td>\n",
       "      <td>Male</td>\n",
       "      <td>Has</td>\n",
       "      <td>No</td>\n",
       "      <td>Masters</td>\n",
       "      <td>STEM</td>\n",
       "      <td>&gt;20</td>\n",
       "      <td>50-99</td>\n",
       "      <td>Funded Startup</td>\n",
       "      <td>4</td>\n",
       "      <td>8</td>\n",
       "    </tr>\n",
       "    <tr>\n",
       "      <th>1</th>\n",
       "      <td>28806</td>\n",
       "      <td>city_160</td>\n",
       "      <td>0.920</td>\n",
       "      <td>Male</td>\n",
       "      <td>Has</td>\n",
       "      <td>No</td>\n",
       "      <td>High</td>\n",
       "      <td>NaN</td>\n",
       "      <td>5</td>\n",
       "      <td>50-99</td>\n",
       "      <td>Funded Startup</td>\n",
       "      <td>1</td>\n",
       "      <td>24</td>\n",
       "    </tr>\n",
       "    <tr>\n",
       "      <th>2</th>\n",
       "      <td>5826</td>\n",
       "      <td>city_21</td>\n",
       "      <td>0.624</td>\n",
       "      <td>Male</td>\n",
       "      <td>No</td>\n",
       "      <td>NaN</td>\n",
       "      <td>NaN</td>\n",
       "      <td>NaN</td>\n",
       "      <td>2</td>\n",
       "      <td>NaN</td>\n",
       "      <td>NaN</td>\n",
       "      <td>never</td>\n",
       "      <td>24</td>\n",
       "    </tr>\n",
       "    <tr>\n",
       "      <th>3</th>\n",
       "      <td>19061</td>\n",
       "      <td>city_114</td>\n",
       "      <td>0.926</td>\n",
       "      <td>Male</td>\n",
       "      <td>Has</td>\n",
       "      <td>No</td>\n",
       "      <td>Masters</td>\n",
       "      <td>STEM</td>\n",
       "      <td>11</td>\n",
       "      <td>100-500</td>\n",
       "      <td>Pvt Ltd</td>\n",
       "      <td>2</td>\n",
       "      <td>50</td>\n",
       "    </tr>\n",
       "    <tr>\n",
       "      <th>4</th>\n",
       "      <td>28476</td>\n",
       "      <td>city_103</td>\n",
       "      <td>0.920</td>\n",
       "      <td>Male</td>\n",
       "      <td>Has</td>\n",
       "      <td>No</td>\n",
       "      <td>Graduate</td>\n",
       "      <td>Arts</td>\n",
       "      <td>5</td>\n",
       "      <td>NaN</td>\n",
       "      <td>NaN</td>\n",
       "      <td>2</td>\n",
       "      <td>72</td>\n",
       "    </tr>\n",
       "    <tr>\n",
       "      <th>...</th>\n",
       "      <td>...</td>\n",
       "      <td>...</td>\n",
       "      <td>...</td>\n",
       "      <td>...</td>\n",
       "      <td>...</td>\n",
       "      <td>...</td>\n",
       "      <td>...</td>\n",
       "      <td>...</td>\n",
       "      <td>...</td>\n",
       "      <td>...</td>\n",
       "      <td>...</td>\n",
       "      <td>...</td>\n",
       "      <td>...</td>\n",
       "    </tr>\n",
       "    <tr>\n",
       "      <th>4308</th>\n",
       "      <td>14257</td>\n",
       "      <td>city_21</td>\n",
       "      <td>0.624</td>\n",
       "      <td>Male</td>\n",
       "      <td>No</td>\n",
       "      <td>Full</td>\n",
       "      <td>Graduate</td>\n",
       "      <td>STEM</td>\n",
       "      <td>13</td>\n",
       "      <td>10/49</td>\n",
       "      <td>NGO</td>\n",
       "      <td>1</td>\n",
       "      <td>21</td>\n",
       "    </tr>\n",
       "    <tr>\n",
       "      <th>4309</th>\n",
       "      <td>6374</td>\n",
       "      <td>city_21</td>\n",
       "      <td>0.624</td>\n",
       "      <td>Male</td>\n",
       "      <td>Has</td>\n",
       "      <td>No</td>\n",
       "      <td>Graduate</td>\n",
       "      <td>Business Degree</td>\n",
       "      <td>14</td>\n",
       "      <td>&lt;10</td>\n",
       "      <td>Pvt Ltd</td>\n",
       "      <td>1</td>\n",
       "      <td>87</td>\n",
       "    </tr>\n",
       "    <tr>\n",
       "      <th>4310</th>\n",
       "      <td>15133</td>\n",
       "      <td>city_160</td>\n",
       "      <td>0.920</td>\n",
       "      <td>Male</td>\n",
       "      <td>No</td>\n",
       "      <td>Part</td>\n",
       "      <td>Graduate</td>\n",
       "      <td>STEM</td>\n",
       "      <td>3</td>\n",
       "      <td>NaN</td>\n",
       "      <td>NaN</td>\n",
       "      <td>1</td>\n",
       "      <td>322</td>\n",
       "    </tr>\n",
       "    <tr>\n",
       "      <th>4311</th>\n",
       "      <td>27018</td>\n",
       "      <td>city_16</td>\n",
       "      <td>0.910</td>\n",
       "      <td>Male</td>\n",
       "      <td>Has</td>\n",
       "      <td>No</td>\n",
       "      <td>Graduate</td>\n",
       "      <td>STEM</td>\n",
       "      <td>8</td>\n",
       "      <td>&lt;10</td>\n",
       "      <td>Pvt Ltd</td>\n",
       "      <td>3</td>\n",
       "      <td>78</td>\n",
       "    </tr>\n",
       "    <tr>\n",
       "      <th>4312</th>\n",
       "      <td>7386</td>\n",
       "      <td>city_173</td>\n",
       "      <td>0.878</td>\n",
       "      <td>Male</td>\n",
       "      <td>No</td>\n",
       "      <td>No</td>\n",
       "      <td>Graduate</td>\n",
       "      <td>Humanities</td>\n",
       "      <td>14</td>\n",
       "      <td>NaN</td>\n",
       "      <td>NaN</td>\n",
       "      <td>1</td>\n",
       "      <td>42</td>\n",
       "    </tr>\n",
       "  </tbody>\n",
       "</table>\n",
       "<p>4313 rows × 13 columns</p>\n",
       "</div>"
      ],
      "text/plain": [
       "      enrollee_id      city  city_development_index gender  \\\n",
       "0             666  city_162                   0.767   Male   \n",
       "1           28806  city_160                   0.920   Male   \n",
       "2            5826   city_21                   0.624   Male   \n",
       "3           19061  city_114                   0.926   Male   \n",
       "4           28476  city_103                   0.920   Male   \n",
       "...           ...       ...                     ...    ...   \n",
       "4308        14257   city_21                   0.624   Male   \n",
       "4309         6374   city_21                   0.624   Male   \n",
       "4310        15133  city_160                   0.920   Male   \n",
       "4311        27018   city_16                   0.910   Male   \n",
       "4312         7386  city_173                   0.878   Male   \n",
       "\n",
       "     relevent_experience enrolled_university education_level major_discipline  \\\n",
       "0                    Has                  No         Masters             STEM   \n",
       "1                    Has                  No            High              NaN   \n",
       "2                     No                 NaN             NaN              NaN   \n",
       "3                    Has                  No         Masters             STEM   \n",
       "4                    Has                  No        Graduate             Arts   \n",
       "...                  ...                 ...             ...              ...   \n",
       "4308                  No                Full        Graduate             STEM   \n",
       "4309                 Has                  No        Graduate  Business Degree   \n",
       "4310                  No                Part        Graduate             STEM   \n",
       "4311                 Has                  No        Graduate             STEM   \n",
       "4312                  No                  No        Graduate       Humanities   \n",
       "\n",
       "     experience company_size    company_type last_new_job  training_hours  \n",
       "0           >20        50-99  Funded Startup            4               8  \n",
       "1             5        50-99  Funded Startup            1              24  \n",
       "2             2          NaN             NaN        never              24  \n",
       "3            11      100-500         Pvt Ltd            2              50  \n",
       "4             5          NaN             NaN            2              72  \n",
       "...         ...          ...             ...          ...             ...  \n",
       "4308         13        10/49             NGO            1              21  \n",
       "4309         14          <10         Pvt Ltd            1              87  \n",
       "4310          3          NaN             NaN            1             322  \n",
       "4311          8          <10         Pvt Ltd            3              78  \n",
       "4312         14          NaN             NaN            1              42  \n",
       "\n",
       "[4313 rows x 13 columns]"
      ]
     },
     "execution_count": 4,
     "metadata": {},
     "output_type": "execute_result"
    }
   ],
   "source": [
    "X_test"
   ]
  },
  {
   "cell_type": "code",
   "execution_count": 5,
   "id": "2b9ed845",
   "metadata": {},
   "outputs": [
    {
     "data": {
      "text/html": [
       "<div>\n",
       "<style scoped>\n",
       "    .dataframe tbody tr th:only-of-type {\n",
       "        vertical-align: middle;\n",
       "    }\n",
       "\n",
       "    .dataframe tbody tr th {\n",
       "        vertical-align: top;\n",
       "    }\n",
       "\n",
       "    .dataframe thead th {\n",
       "        text-align: right;\n",
       "    }\n",
       "</style>\n",
       "<table border=\"1\" class=\"dataframe\">\n",
       "  <thead>\n",
       "    <tr style=\"text-align: right;\">\n",
       "      <th></th>\n",
       "      <th>enrollee_id</th>\n",
       "      <th>target</th>\n",
       "    </tr>\n",
       "  </thead>\n",
       "  <tbody>\n",
       "    <tr>\n",
       "      <th>0</th>\n",
       "      <td>6424</td>\n",
       "      <td>0</td>\n",
       "    </tr>\n",
       "    <tr>\n",
       "      <th>1</th>\n",
       "      <td>18304</td>\n",
       "      <td>0</td>\n",
       "    </tr>\n",
       "    <tr>\n",
       "      <th>2</th>\n",
       "      <td>22515</td>\n",
       "      <td>0</td>\n",
       "    </tr>\n",
       "    <tr>\n",
       "      <th>3</th>\n",
       "      <td>15878</td>\n",
       "      <td>0</td>\n",
       "    </tr>\n",
       "    <tr>\n",
       "      <th>4</th>\n",
       "      <td>22128</td>\n",
       "      <td>0</td>\n",
       "    </tr>\n",
       "    <tr>\n",
       "      <th>...</th>\n",
       "      <td>...</td>\n",
       "      <td>...</td>\n",
       "    </tr>\n",
       "    <tr>\n",
       "      <th>10058</th>\n",
       "      <td>28053</td>\n",
       "      <td>1</td>\n",
       "    </tr>\n",
       "    <tr>\n",
       "      <th>10059</th>\n",
       "      <td>28108</td>\n",
       "      <td>1</td>\n",
       "    </tr>\n",
       "    <tr>\n",
       "      <th>10060</th>\n",
       "      <td>58</td>\n",
       "      <td>1</td>\n",
       "    </tr>\n",
       "    <tr>\n",
       "      <th>10061</th>\n",
       "      <td>11305</td>\n",
       "      <td>1</td>\n",
       "    </tr>\n",
       "    <tr>\n",
       "      <th>10062</th>\n",
       "      <td>21806</td>\n",
       "      <td>1</td>\n",
       "    </tr>\n",
       "  </tbody>\n",
       "</table>\n",
       "<p>10063 rows × 2 columns</p>\n",
       "</div>"
      ],
      "text/plain": [
       "       enrollee_id  target\n",
       "0             6424       0\n",
       "1            18304       0\n",
       "2            22515       0\n",
       "3            15878       0\n",
       "4            22128       0\n",
       "...            ...     ...\n",
       "10058        28053       1\n",
       "10059        28108       1\n",
       "10060           58       1\n",
       "10061        11305       1\n",
       "10062        21806       1\n",
       "\n",
       "[10063 rows x 2 columns]"
      ]
     },
     "execution_count": 5,
     "metadata": {},
     "output_type": "execute_result"
    }
   ],
   "source": [
    "y_train"
   ]
  },
  {
   "cell_type": "code",
   "execution_count": 6,
   "id": "452feec2",
   "metadata": {},
   "outputs": [
    {
     "name": "stdout",
     "output_type": "stream",
     "text": [
      "<class 'pandas.core.frame.DataFrame'>\n",
      "RangeIndex: 10063 entries, 0 to 10062\n",
      "Data columns (total 13 columns):\n",
      " #   Column                  Non-Null Count  Dtype  \n",
      "---  ------                  --------------  -----  \n",
      " 0   enrollee_id             10063 non-null  int64  \n",
      " 1   city                    10063 non-null  object \n",
      " 2   city_development_index  10063 non-null  float64\n",
      " 3   gender                  10063 non-null  object \n",
      " 4   relevent_experience     10063 non-null  object \n",
      " 5   enrolled_university     9921 non-null   object \n",
      " 6   education_level         9901 non-null   object \n",
      " 7   major_discipline        8740 non-null   object \n",
      " 8   experience              10063 non-null  object \n",
      " 9   company_size            7133 non-null   object \n",
      " 10  company_type            7048 non-null   object \n",
      " 11  last_new_job            10063 non-null  object \n",
      " 12  training_hours          10063 non-null  int64  \n",
      "dtypes: float64(1), int64(2), object(10)\n",
      "memory usage: 1022.1+ KB\n"
     ]
    }
   ],
   "source": [
    "X_train.info()"
   ]
  },
  {
   "cell_type": "code",
   "execution_count": 7,
   "id": "69db242a",
   "metadata": {},
   "outputs": [
    {
     "name": "stdout",
     "output_type": "stream",
     "text": [
      "<class 'pandas.core.frame.DataFrame'>\n",
      "RangeIndex: 4313 entries, 0 to 4312\n",
      "Data columns (total 13 columns):\n",
      " #   Column                  Non-Null Count  Dtype  \n",
      "---  ------                  --------------  -----  \n",
      " 0   enrollee_id             4313 non-null   int64  \n",
      " 1   city                    4313 non-null   object \n",
      " 2   city_development_index  4313 non-null   float64\n",
      " 3   gender                  4313 non-null   object \n",
      " 4   relevent_experience     4313 non-null   object \n",
      " 5   enrolled_university     4262 non-null   object \n",
      " 6   education_level         4231 non-null   object \n",
      " 7   major_discipline        3724 non-null   object \n",
      " 8   experience              4313 non-null   object \n",
      " 9   company_size            3052 non-null   object \n",
      " 10  company_type            3024 non-null   object \n",
      " 11  last_new_job            4313 non-null   object \n",
      " 12  training_hours          4313 non-null   int64  \n",
      "dtypes: float64(1), int64(2), object(10)\n",
      "memory usage: 438.2+ KB\n"
     ]
    }
   ],
   "source": [
    "X_test.info()"
   ]
  },
  {
   "cell_type": "markdown",
   "id": "c2176047",
   "metadata": {},
   "source": [
    "### 2. Data Preprocessing"
   ]
  },
  {
   "cell_type": "markdown",
   "id": "c64ea064",
   "metadata": {},
   "source": [
    "#### (1) 상관관계가 낮은 변수 삭제"
   ]
  },
  {
   "cell_type": "code",
   "execution_count": 8,
   "id": "32ed0311",
   "metadata": {},
   "outputs": [],
   "source": [
    "# enrollee_id 컬럼은 고유 정보로 key 역할로 모델에는 불필요함\n",
    "# 결과 제출 시에는 X_test의 enrollee_id 컬럼이 필요하기 때문에 별도 저장\n",
    "enrollee_id = X_test['enrollee_id'].copy()\n",
    "\n",
    "# 데이터들에서 enrollee_id 컬럼 삭제\n",
    "\n",
    "# 또한, enrollee_id, company_size, company_type는 이직여부와 상관관계가 낮으므로 컬럼을 삭제\n",
    "# enrolled_university, major_discipline은 대치하기 어려운 변수이므로 삭제\n",
    "X_train = X_train.drop(columns = ['enrollee_id', 'company_size', 'company_type', 'enrolled_university', 'major_discipline'])\n",
    "X_test = X_test.drop(columns = ['enrollee_id','company_size', 'company_type', 'enrolled_university', 'major_discipline'])\n",
    "y_train = y_train.drop(columns = ['enrollee_id'])"
   ]
  },
  {
   "cell_type": "markdown",
   "id": "d48716c6",
   "metadata": {},
   "source": [
    "#### (2) Missing Value"
   ]
  },
  {
   "cell_type": "code",
   "execution_count": 9,
   "id": "3ae99c94",
   "metadata": {},
   "outputs": [
    {
     "data": {
      "text/plain": [
       "city                        0\n",
       "city_development_index      0\n",
       "gender                      0\n",
       "relevent_experience         0\n",
       "education_level           162\n",
       "experience                  0\n",
       "last_new_job                0\n",
       "training_hours              0\n",
       "dtype: int64"
      ]
     },
     "execution_count": 9,
     "metadata": {},
     "output_type": "execute_result"
    }
   ],
   "source": [
    "X_train.isna().sum()"
   ]
  },
  {
   "cell_type": "code",
   "execution_count": 10,
   "id": "077776f3",
   "metadata": {},
   "outputs": [
    {
     "data": {
      "text/plain": [
       "city                       0\n",
       "city_development_index     0\n",
       "gender                     0\n",
       "relevent_experience        0\n",
       "education_level           82\n",
       "experience                 0\n",
       "last_new_job               0\n",
       "training_hours             0\n",
       "dtype: int64"
      ]
     },
     "execution_count": 10,
     "metadata": {},
     "output_type": "execute_result"
    }
   ],
   "source": [
    "X_test.isna().sum()"
   ]
  },
  {
   "cell_type": "code",
   "execution_count": 11,
   "id": "39824cfb",
   "metadata": {},
   "outputs": [
    {
     "data": {
      "text/plain": [
       "Graduate    6288\n",
       "Masters     2233\n",
       "High        1009\n",
       "Phd          223\n",
       "Primary      148\n",
       "Name: education_level, dtype: int64"
      ]
     },
     "execution_count": 11,
     "metadata": {},
     "output_type": "execute_result"
    }
   ],
   "source": [
    "X_train.education_level.value_counts()"
   ]
  },
  {
   "cell_type": "code",
   "execution_count": 12,
   "id": "6b711efd",
   "metadata": {},
   "outputs": [],
   "source": [
    "######## education_level 컬럼 (train : 162, test : 82)\n",
    "# 최다빈도를 가지는 라벨로 대체\n",
    "mode_EL = X_train['education_level'].value_counts().idxmax()\n",
    "X_train['education_level'] = X_train['education_level'].fillna(mode_EL)\n",
    "X_test['education_level'] = X_test['education_level'].fillna(mode_EL)"
   ]
  },
  {
   "cell_type": "markdown",
   "id": "07c3127c",
   "metadata": {},
   "source": [
    "### 3. Data Modeling"
   ]
  },
  {
   "cell_type": "markdown",
   "id": "7cc7278c",
   "metadata": {},
   "source": [
    "#### (1) Encoding"
   ]
  },
  {
   "cell_type": "code",
   "execution_count": 13,
   "id": "199c7784",
   "metadata": {},
   "outputs": [],
   "source": [
    "from sklearn.preprocessing import OneHotEncoder\n",
    "\n",
    "X_train_cat = X_train.select_dtypes('object').copy()\n",
    "X_test_cat =  X_test.select_dtypes('object').copy()\n",
    "\n",
    "ohe = OneHotEncoder(sparse=False, handle_unknown = 'ignore')\n",
    "\n",
    "ohe.fit(X_train_cat)\n",
    "\n",
    "X_train_ohe = ohe.transform(X_train_cat)\n",
    "X_test_ohe = ohe.transform(X_test_cat)"
   ]
  },
  {
   "cell_type": "markdown",
   "id": "33e3d896",
   "metadata": {},
   "source": [
    "#### (2) Scaling"
   ]
  },
  {
   "cell_type": "code",
   "execution_count": 14,
   "id": "ff081009",
   "metadata": {},
   "outputs": [],
   "source": [
    "from sklearn.preprocessing import MinMaxScaler\n",
    "\n",
    "X_train_num = X_train.select_dtypes(exclude='object').copy()\n",
    "X_test_num = X_test.select_dtypes(exclude='object').copy()\n",
    "\n",
    "scaler = MinMaxScaler()\n",
    "\n",
    "scaler.fit(X_train_num)\n",
    "\n",
    "X_train_sca = scaler.transform(X_train_num)\n",
    "X_test_sca = scaler.transform(X_test_num)"
   ]
  },
  {
   "cell_type": "markdown",
   "id": "2a440aa1",
   "metadata": {},
   "source": [
    "#### (3) Data Concat & Split"
   ]
  },
  {
   "cell_type": "code",
   "execution_count": 15,
   "id": "95533fd8",
   "metadata": {},
   "outputs": [
    {
     "name": "stdout",
     "output_type": "stream",
     "text": [
      "<class 'numpy.ndarray'> <class 'numpy.ndarray'> <class 'pandas.core.series.Series'>\n",
      "(10063, 159) (4313, 159) (10063,)\n"
     ]
    }
   ],
   "source": [
    "X_TRAIN = np.concatenate([X_train_ohe, X_train_sca], axis=1)\n",
    "X_TEST = np.concatenate([X_test_ohe, X_test_sca], axis=1)\n",
    "\n",
    "y_TRAIN = y_train['target']\n",
    "\n",
    "print(type(X_TRAIN), type(X_TEST), type(y_TRAIN))\n",
    "print(X_TRAIN.shape, X_TEST.shape, y_TRAIN.shape)"
   ]
  },
  {
   "cell_type": "code",
   "execution_count": 16,
   "id": "3adc70f1",
   "metadata": {},
   "outputs": [
    {
     "name": "stdout",
     "output_type": "stream",
     "text": [
      "(7547, 159) (2516, 159) (7547,) (2516,)\n"
     ]
    }
   ],
   "source": [
    "from sklearn.model_selection import train_test_split\n",
    "\n",
    "xtrain, xtest, ytrain, ytest = train_test_split(X_TRAIN, y_TRAIN, test_size = 0.25, stratify=y_TRAIN, random_state=1234)\n",
    "\n",
    "print(xtrain.shape, xtest.shape, ytrain.shape, ytest.shape)"
   ]
  },
  {
   "cell_type": "markdown",
   "id": "5cef6982",
   "metadata": {},
   "source": [
    "### 4. Modeling"
   ]
  },
  {
   "cell_type": "code",
   "execution_count": 17,
   "id": "85aa2720",
   "metadata": {},
   "outputs": [],
   "source": [
    "from sklearn.linear_model import LogisticRegression\n",
    "from sklearn.tree import DecisionTreeClassifier\n",
    "from sklearn.ensemble import RandomForestClassifier\n",
    "from xgboost import XGBClassifier"
   ]
  },
  {
   "cell_type": "code",
   "execution_count": 18,
   "id": "cd511b64",
   "metadata": {},
   "outputs": [],
   "source": [
    "def make_models(xtrain, xtest, ytrain, ytest):\n",
    "    model1 = LogisticRegression(solver='lbfgs', max_iter=1000).fit(xtrain, ytrain)\n",
    "    print('model1', get_scores(model1, xtrain, xtest, ytrain, ytest))\n",
    "\n",
    "    model2 = DecisionTreeClassifier(random_state=0).fit(xtrain, ytrain)\n",
    "    print('model2', get_scores(model2, xtrain, xtest, ytrain, ytest))\n",
    "\n",
    "    for d in range(3, 8):\n",
    "        model2 = DecisionTreeClassifier(max_depth=d, random_state=0).fit(xtrain, ytrain)\n",
    "        print('model2', d, get_scores(model2, xtrain, xtest, ytrain, ytest))\n",
    "\n",
    "    model3 = RandomForestClassifier(random_state=0).fit(xtrain, ytrain)\n",
    "    print('model3', get_scores(model3, xtrain, xtest, ytrain, ytest))\n",
    "\n",
    "    for d in range(3, 8):\n",
    "        model3 = RandomForestClassifier(500, max_depth=d, random_state=0).fit(xtrain, ytrain)\n",
    "        print('model3', d, get_scores(model3, xtrain, xtest, ytrain, ytest))\n",
    "\n",
    "    model4 = XGBClassifier(eval_metric='logloss').fit(xtrain, ytrain)\n",
    "    print('model4', get_scores(model4, xtrain, xtest, ytrain, ytest))"
   ]
  },
  {
   "cell_type": "markdown",
   "id": "f6bcb0da",
   "metadata": {},
   "source": [
    "### 5. Model Evaluation"
   ]
  },
  {
   "cell_type": "code",
   "execution_count": 19,
   "id": "cf85ad96",
   "metadata": {},
   "outputs": [],
   "source": [
    "from sklearn.metrics import roc_auc_score\n",
    "\n",
    "def get_scores(model, xtrain, xtest, ytrain, ytest):\n",
    "    A = model.score(xtrain, ytrain)\n",
    "    \n",
    "    ypred = model.predict_proba(xtest)[:, 1]\n",
    "    \n",
    "    B = roc_auc_score(ytest, ypred)\n",
    "    \n",
    "    return f'{A:.4} {B:.4}'"
   ]
  },
  {
   "cell_type": "code",
   "execution_count": 20,
   "id": "cc5f7742",
   "metadata": {},
   "outputs": [
    {
     "name": "stdout",
     "output_type": "stream",
     "text": [
      "model1 0.8002 0.7455\n",
      "model2 0.9931 0.6157\n",
      "model2 3 0.8003 0.7222\n",
      "model2 4 0.8011 0.7361\n",
      "model2 5 0.8026 0.7404\n",
      "model2 6 0.8048 0.738\n",
      "model2 7 0.8101 0.7358\n",
      "model3 0.993 0.6921\n",
      "model3 3 0.7697 0.736\n",
      "model3 4 0.7697 0.7379\n",
      "model3 5 0.7697 0.7386\n",
      "model3 6 0.7732 0.7389\n",
      "model3 7 0.7884 0.7418\n",
      "model4 0.8472 0.7274\n"
     ]
    }
   ],
   "source": [
    "make_models(xtrain, xtest, ytrain, ytest)"
   ]
  },
  {
   "cell_type": "code",
   "execution_count": 21,
   "id": "6502db08",
   "metadata": {},
   "outputs": [
    {
     "name": "stdout",
     "output_type": "stream",
     "text": [
      "final model 0.8011 0.7361\n"
     ]
    }
   ],
   "source": [
    "final_model = DecisionTreeClassifier(max_depth=4, random_state=0).fit(xtrain, ytrain)\n",
    "\n",
    "print('final model', get_scores(final_model, xtrain, xtest, ytrain, ytest))"
   ]
  },
  {
   "cell_type": "markdown",
   "id": "3b418a31",
   "metadata": {},
   "source": [
    "### 6. Save Result"
   ]
  },
  {
   "cell_type": "code",
   "execution_count": 22,
   "id": "5c6fe36e",
   "metadata": {},
   "outputs": [],
   "source": [
    "y_pred = final_model.predict(X_TEST)\n",
    "y_pred_prob = final_model.predict_proba(X_TEST)[:,1]\n",
    "\n",
    "obj = {'enrollee_id' : enrollee_id,\n",
    "       'target' : y_pred,\n",
    "       'y_pred_prob' : y_pred_prob}\n",
    "\n",
    "result = pd.DataFrame(obj)\n",
    "result.to_csv(\"./result.csv\", index = False)"
   ]
  }
 ],
 "metadata": {
  "kernelspec": {
   "display_name": "Python 3 (ipykernel)",
   "language": "python",
   "name": "python3"
  },
  "language_info": {
   "codemirror_mode": {
    "name": "ipython",
    "version": 3
   },
   "file_extension": ".py",
   "mimetype": "text/x-python",
   "name": "python",
   "nbconvert_exporter": "python",
   "pygments_lexer": "ipython3",
   "version": "3.9.13"
  }
 },
 "nbformat": 4,
 "nbformat_minor": 5
}
