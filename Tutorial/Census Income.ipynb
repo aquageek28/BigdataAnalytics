{
 "cells": [
  {
   "cell_type": "markdown",
   "id": "bbcc19fb",
   "metadata": {},
   "source": [
    "# Census Income Data Set"
   ]
  },
  {
   "cell_type": "markdown",
   "id": "9e7e42a0",
   "metadata": {},
   "source": [
    "## Extraction was done by Barry Becker from the 1994 Census database."
   ]
  },
  {
   "cell_type": "markdown",
   "id": "34e8b777",
   "metadata": {},
   "source": [
    "https://archive.ics.uci.edu/ml/datasets/census+income"
   ]
  },
  {
   "cell_type": "markdown",
   "id": "ce0eaa6a",
   "metadata": {},
   "source": [
    "![image.png](../Images/Census.png)"
   ]
  },
  {
   "cell_type": "markdown",
   "id": "aada1044",
   "metadata": {},
   "source": [
    "해당 데이터는 1994년 Census bureau database에서 추출된 것이다. 원본 데이터는 UCI 머신러닝 레포지토리에서 확인할 수 있으며,<br> 일부 변수를 제거하는 등 이를 실습용으로 수정한 데이터이다. 데이터는 사람들의 나이, 교육 수준, 결혼 여부 등의 특성과 연소득이 5만 달러를 넘는지 안 넘는지에 대한 정보를 담고 있다.<br>\n",
    "\n",
    "주어진 학습용 데이터(Census_X_train.csv, Census_X_test.csv)를 활용하여 해당 사람이 연소득 5만달러를 넘는지 안넘는지 예측 모형을 만든 후,<br> 이를 평가용 데이터(Census_X_test.csv)에 적용하여 얻은 연소득 5만 달러 초과 여부(초과인 경우를 1로한다)를 .csv 파일로 저장한다."
   ]
  },
  {
   "cell_type": "markdown",
   "id": "78b003b4",
   "metadata": {},
   "source": [
    "### Library & Data Import"
   ]
  },
  {
   "cell_type": "code",
   "execution_count": 1,
   "id": "4c78c7c7",
   "metadata": {},
   "outputs": [],
   "source": [
    "import pandas as pd\n",
    "import numpy as np"
   ]
  },
  {
   "cell_type": "code",
   "execution_count": 2,
   "id": "8aafbd43",
   "metadata": {},
   "outputs": [],
   "source": [
    "X_test = pd.read_csv('../Datasets/Census_X_test.csv')\n",
    "X_train = pd.read_csv('../Datasets/Census_X_train.csv')\n",
    "y_train = pd.read_csv('../Datasets/Census_y_train.csv')"
   ]
  },
  {
   "cell_type": "markdown",
   "id": "2660e021",
   "metadata": {},
   "source": [
    "### 1. Data Exploration"
   ]
  },
  {
   "cell_type": "code",
   "execution_count": 3,
   "id": "3d69afc4",
   "metadata": {},
   "outputs": [
    {
     "data": {
      "text/html": [
       "<div>\n",
       "<style scoped>\n",
       "    .dataframe tbody tr th:only-of-type {\n",
       "        vertical-align: middle;\n",
       "    }\n",
       "\n",
       "    .dataframe tbody tr th {\n",
       "        vertical-align: top;\n",
       "    }\n",
       "\n",
       "    .dataframe thead th {\n",
       "        text-align: right;\n",
       "    }\n",
       "</style>\n",
       "<table border=\"1\" class=\"dataframe\">\n",
       "  <thead>\n",
       "    <tr style=\"text-align: right;\">\n",
       "      <th></th>\n",
       "      <th>age</th>\n",
       "      <th>workclass</th>\n",
       "      <th>education_num</th>\n",
       "      <th>marital_status</th>\n",
       "      <th>occupation</th>\n",
       "      <th>relationship</th>\n",
       "      <th>race</th>\n",
       "      <th>sex</th>\n",
       "      <th>capital_gain</th>\n",
       "      <th>capital_loss</th>\n",
       "      <th>hours_per_week</th>\n",
       "      <th>native_country</th>\n",
       "    </tr>\n",
       "  </thead>\n",
       "  <tbody>\n",
       "    <tr>\n",
       "      <th>0</th>\n",
       "      <td>25</td>\n",
       "      <td>Private</td>\n",
       "      <td>7</td>\n",
       "      <td>Never-married</td>\n",
       "      <td>Machine-op-inspct</td>\n",
       "      <td>Own-child</td>\n",
       "      <td>Black</td>\n",
       "      <td>Male</td>\n",
       "      <td>0</td>\n",
       "      <td>0</td>\n",
       "      <td>40</td>\n",
       "      <td>United-States</td>\n",
       "    </tr>\n",
       "    <tr>\n",
       "      <th>1</th>\n",
       "      <td>38</td>\n",
       "      <td>Private</td>\n",
       "      <td>9</td>\n",
       "      <td>Married-civ-spouse</td>\n",
       "      <td>Farming-fishing</td>\n",
       "      <td>Husband</td>\n",
       "      <td>White</td>\n",
       "      <td>Male</td>\n",
       "      <td>0</td>\n",
       "      <td>0</td>\n",
       "      <td>50</td>\n",
       "      <td>United-States</td>\n",
       "    </tr>\n",
       "    <tr>\n",
       "      <th>2</th>\n",
       "      <td>28</td>\n",
       "      <td>Local-gov</td>\n",
       "      <td>12</td>\n",
       "      <td>Married-civ-spouse</td>\n",
       "      <td>Protective-serv</td>\n",
       "      <td>Husband</td>\n",
       "      <td>White</td>\n",
       "      <td>Male</td>\n",
       "      <td>0</td>\n",
       "      <td>0</td>\n",
       "      <td>40</td>\n",
       "      <td>United-States</td>\n",
       "    </tr>\n",
       "    <tr>\n",
       "      <th>3</th>\n",
       "      <td>44</td>\n",
       "      <td>Private</td>\n",
       "      <td>10</td>\n",
       "      <td>Married-civ-spouse</td>\n",
       "      <td>Machine-op-inspct</td>\n",
       "      <td>Husband</td>\n",
       "      <td>Black</td>\n",
       "      <td>Male</td>\n",
       "      <td>7688</td>\n",
       "      <td>0</td>\n",
       "      <td>40</td>\n",
       "      <td>United-States</td>\n",
       "    </tr>\n",
       "    <tr>\n",
       "      <th>4</th>\n",
       "      <td>34</td>\n",
       "      <td>Private</td>\n",
       "      <td>6</td>\n",
       "      <td>Never-married</td>\n",
       "      <td>Other-service</td>\n",
       "      <td>Not-in-family</td>\n",
       "      <td>White</td>\n",
       "      <td>Male</td>\n",
       "      <td>0</td>\n",
       "      <td>0</td>\n",
       "      <td>30</td>\n",
       "      <td>United-States</td>\n",
       "    </tr>\n",
       "    <tr>\n",
       "      <th>...</th>\n",
       "      <td>...</td>\n",
       "      <td>...</td>\n",
       "      <td>...</td>\n",
       "      <td>...</td>\n",
       "      <td>...</td>\n",
       "      <td>...</td>\n",
       "      <td>...</td>\n",
       "      <td>...</td>\n",
       "      <td>...</td>\n",
       "      <td>...</td>\n",
       "      <td>...</td>\n",
       "      <td>...</td>\n",
       "    </tr>\n",
       "    <tr>\n",
       "      <th>15055</th>\n",
       "      <td>33</td>\n",
       "      <td>Private</td>\n",
       "      <td>13</td>\n",
       "      <td>Never-married</td>\n",
       "      <td>Prof-specialty</td>\n",
       "      <td>Own-child</td>\n",
       "      <td>White</td>\n",
       "      <td>Male</td>\n",
       "      <td>0</td>\n",
       "      <td>0</td>\n",
       "      <td>40</td>\n",
       "      <td>United-States</td>\n",
       "    </tr>\n",
       "    <tr>\n",
       "      <th>15056</th>\n",
       "      <td>39</td>\n",
       "      <td>Private</td>\n",
       "      <td>13</td>\n",
       "      <td>Divorced</td>\n",
       "      <td>Prof-specialty</td>\n",
       "      <td>Not-in-family</td>\n",
       "      <td>White</td>\n",
       "      <td>Female</td>\n",
       "      <td>0</td>\n",
       "      <td>0</td>\n",
       "      <td>36</td>\n",
       "      <td>United-States</td>\n",
       "    </tr>\n",
       "    <tr>\n",
       "      <th>15057</th>\n",
       "      <td>38</td>\n",
       "      <td>Private</td>\n",
       "      <td>13</td>\n",
       "      <td>Married-civ-spouse</td>\n",
       "      <td>Prof-specialty</td>\n",
       "      <td>Husband</td>\n",
       "      <td>White</td>\n",
       "      <td>Male</td>\n",
       "      <td>0</td>\n",
       "      <td>0</td>\n",
       "      <td>50</td>\n",
       "      <td>United-States</td>\n",
       "    </tr>\n",
       "    <tr>\n",
       "      <th>15058</th>\n",
       "      <td>44</td>\n",
       "      <td>Private</td>\n",
       "      <td>13</td>\n",
       "      <td>Divorced</td>\n",
       "      <td>Adm-clerical</td>\n",
       "      <td>Own-child</td>\n",
       "      <td>Asian-Pac-Islander</td>\n",
       "      <td>Male</td>\n",
       "      <td>5455</td>\n",
       "      <td>0</td>\n",
       "      <td>40</td>\n",
       "      <td>United-States</td>\n",
       "    </tr>\n",
       "    <tr>\n",
       "      <th>15059</th>\n",
       "      <td>35</td>\n",
       "      <td>Self-emp-inc</td>\n",
       "      <td>13</td>\n",
       "      <td>Married-civ-spouse</td>\n",
       "      <td>Exec-managerial</td>\n",
       "      <td>Husband</td>\n",
       "      <td>White</td>\n",
       "      <td>Male</td>\n",
       "      <td>0</td>\n",
       "      <td>0</td>\n",
       "      <td>60</td>\n",
       "      <td>United-States</td>\n",
       "    </tr>\n",
       "  </tbody>\n",
       "</table>\n",
       "<p>15060 rows × 12 columns</p>\n",
       "</div>"
      ],
      "text/plain": [
       "       age     workclass  education_num      marital_status  \\\n",
       "0       25       Private              7       Never-married   \n",
       "1       38       Private              9  Married-civ-spouse   \n",
       "2       28     Local-gov             12  Married-civ-spouse   \n",
       "3       44       Private             10  Married-civ-spouse   \n",
       "4       34       Private              6       Never-married   \n",
       "...    ...           ...            ...                 ...   \n",
       "15055   33       Private             13       Never-married   \n",
       "15056   39       Private             13            Divorced   \n",
       "15057   38       Private             13  Married-civ-spouse   \n",
       "15058   44       Private             13            Divorced   \n",
       "15059   35  Self-emp-inc             13  Married-civ-spouse   \n",
       "\n",
       "              occupation   relationship                race     sex  \\\n",
       "0      Machine-op-inspct      Own-child               Black    Male   \n",
       "1        Farming-fishing        Husband               White    Male   \n",
       "2        Protective-serv        Husband               White    Male   \n",
       "3      Machine-op-inspct        Husband               Black    Male   \n",
       "4          Other-service  Not-in-family               White    Male   \n",
       "...                  ...            ...                 ...     ...   \n",
       "15055     Prof-specialty      Own-child               White    Male   \n",
       "15056     Prof-specialty  Not-in-family               White  Female   \n",
       "15057     Prof-specialty        Husband               White    Male   \n",
       "15058       Adm-clerical      Own-child  Asian-Pac-Islander    Male   \n",
       "15059    Exec-managerial        Husband               White    Male   \n",
       "\n",
       "       capital_gain  capital_loss  hours_per_week native_country  \n",
       "0                 0             0              40  United-States  \n",
       "1                 0             0              50  United-States  \n",
       "2                 0             0              40  United-States  \n",
       "3              7688             0              40  United-States  \n",
       "4                 0             0              30  United-States  \n",
       "...             ...           ...             ...            ...  \n",
       "15055             0             0              40  United-States  \n",
       "15056             0             0              36  United-States  \n",
       "15057             0             0              50  United-States  \n",
       "15058          5455             0              40  United-States  \n",
       "15059             0             0              60  United-States  \n",
       "\n",
       "[15060 rows x 12 columns]"
      ]
     },
     "execution_count": 3,
     "metadata": {},
     "output_type": "execute_result"
    }
   ],
   "source": [
    "X_test"
   ]
  },
  {
   "cell_type": "code",
   "execution_count": 4,
   "id": "675b1030",
   "metadata": {},
   "outputs": [
    {
     "data": {
      "text/html": [
       "<div>\n",
       "<style scoped>\n",
       "    .dataframe tbody tr th:only-of-type {\n",
       "        vertical-align: middle;\n",
       "    }\n",
       "\n",
       "    .dataframe tbody tr th {\n",
       "        vertical-align: top;\n",
       "    }\n",
       "\n",
       "    .dataframe thead th {\n",
       "        text-align: right;\n",
       "    }\n",
       "</style>\n",
       "<table border=\"1\" class=\"dataframe\">\n",
       "  <thead>\n",
       "    <tr style=\"text-align: right;\">\n",
       "      <th></th>\n",
       "      <th>age</th>\n",
       "      <th>workclass</th>\n",
       "      <th>education_num</th>\n",
       "      <th>marital_status</th>\n",
       "      <th>occupation</th>\n",
       "      <th>relationship</th>\n",
       "      <th>race</th>\n",
       "      <th>sex</th>\n",
       "      <th>capital_gain</th>\n",
       "      <th>capital_loss</th>\n",
       "      <th>hours_per_week</th>\n",
       "      <th>native_country</th>\n",
       "    </tr>\n",
       "  </thead>\n",
       "  <tbody>\n",
       "    <tr>\n",
       "      <th>0</th>\n",
       "      <td>39</td>\n",
       "      <td>State-gov</td>\n",
       "      <td>13</td>\n",
       "      <td>Never-married</td>\n",
       "      <td>Adm-clerical</td>\n",
       "      <td>Not-in-family</td>\n",
       "      <td>White</td>\n",
       "      <td>Male</td>\n",
       "      <td>2174</td>\n",
       "      <td>0</td>\n",
       "      <td>40</td>\n",
       "      <td>United-States</td>\n",
       "    </tr>\n",
       "    <tr>\n",
       "      <th>1</th>\n",
       "      <td>50</td>\n",
       "      <td>Self-emp-not-inc</td>\n",
       "      <td>13</td>\n",
       "      <td>Married-civ-spouse</td>\n",
       "      <td>Exec-managerial</td>\n",
       "      <td>Husband</td>\n",
       "      <td>White</td>\n",
       "      <td>Male</td>\n",
       "      <td>0</td>\n",
       "      <td>0</td>\n",
       "      <td>13</td>\n",
       "      <td>United-States</td>\n",
       "    </tr>\n",
       "    <tr>\n",
       "      <th>2</th>\n",
       "      <td>38</td>\n",
       "      <td>Private</td>\n",
       "      <td>9</td>\n",
       "      <td>Divorced</td>\n",
       "      <td>Handlers-cleaners</td>\n",
       "      <td>Not-in-family</td>\n",
       "      <td>White</td>\n",
       "      <td>Male</td>\n",
       "      <td>0</td>\n",
       "      <td>0</td>\n",
       "      <td>40</td>\n",
       "      <td>United-States</td>\n",
       "    </tr>\n",
       "    <tr>\n",
       "      <th>3</th>\n",
       "      <td>53</td>\n",
       "      <td>Private</td>\n",
       "      <td>7</td>\n",
       "      <td>Married-civ-spouse</td>\n",
       "      <td>Handlers-cleaners</td>\n",
       "      <td>Husband</td>\n",
       "      <td>Black</td>\n",
       "      <td>Male</td>\n",
       "      <td>0</td>\n",
       "      <td>0</td>\n",
       "      <td>40</td>\n",
       "      <td>United-States</td>\n",
       "    </tr>\n",
       "    <tr>\n",
       "      <th>4</th>\n",
       "      <td>28</td>\n",
       "      <td>Private</td>\n",
       "      <td>13</td>\n",
       "      <td>Married-civ-spouse</td>\n",
       "      <td>Prof-specialty</td>\n",
       "      <td>Wife</td>\n",
       "      <td>Black</td>\n",
       "      <td>Female</td>\n",
       "      <td>0</td>\n",
       "      <td>0</td>\n",
       "      <td>40</td>\n",
       "      <td>Cuba</td>\n",
       "    </tr>\n",
       "    <tr>\n",
       "      <th>...</th>\n",
       "      <td>...</td>\n",
       "      <td>...</td>\n",
       "      <td>...</td>\n",
       "      <td>...</td>\n",
       "      <td>...</td>\n",
       "      <td>...</td>\n",
       "      <td>...</td>\n",
       "      <td>...</td>\n",
       "      <td>...</td>\n",
       "      <td>...</td>\n",
       "      <td>...</td>\n",
       "      <td>...</td>\n",
       "    </tr>\n",
       "    <tr>\n",
       "      <th>30157</th>\n",
       "      <td>27</td>\n",
       "      <td>Private</td>\n",
       "      <td>12</td>\n",
       "      <td>Married-civ-spouse</td>\n",
       "      <td>Tech-support</td>\n",
       "      <td>Wife</td>\n",
       "      <td>White</td>\n",
       "      <td>Female</td>\n",
       "      <td>0</td>\n",
       "      <td>0</td>\n",
       "      <td>38</td>\n",
       "      <td>United-States</td>\n",
       "    </tr>\n",
       "    <tr>\n",
       "      <th>30158</th>\n",
       "      <td>40</td>\n",
       "      <td>Private</td>\n",
       "      <td>9</td>\n",
       "      <td>Married-civ-spouse</td>\n",
       "      <td>Machine-op-inspct</td>\n",
       "      <td>Husband</td>\n",
       "      <td>White</td>\n",
       "      <td>Male</td>\n",
       "      <td>0</td>\n",
       "      <td>0</td>\n",
       "      <td>40</td>\n",
       "      <td>United-States</td>\n",
       "    </tr>\n",
       "    <tr>\n",
       "      <th>30159</th>\n",
       "      <td>58</td>\n",
       "      <td>Private</td>\n",
       "      <td>9</td>\n",
       "      <td>Widowed</td>\n",
       "      <td>Adm-clerical</td>\n",
       "      <td>Unmarried</td>\n",
       "      <td>White</td>\n",
       "      <td>Female</td>\n",
       "      <td>0</td>\n",
       "      <td>0</td>\n",
       "      <td>40</td>\n",
       "      <td>United-States</td>\n",
       "    </tr>\n",
       "    <tr>\n",
       "      <th>30160</th>\n",
       "      <td>22</td>\n",
       "      <td>Private</td>\n",
       "      <td>9</td>\n",
       "      <td>Never-married</td>\n",
       "      <td>Adm-clerical</td>\n",
       "      <td>Own-child</td>\n",
       "      <td>White</td>\n",
       "      <td>Male</td>\n",
       "      <td>0</td>\n",
       "      <td>0</td>\n",
       "      <td>20</td>\n",
       "      <td>United-States</td>\n",
       "    </tr>\n",
       "    <tr>\n",
       "      <th>30161</th>\n",
       "      <td>52</td>\n",
       "      <td>Self-emp-inc</td>\n",
       "      <td>9</td>\n",
       "      <td>Married-civ-spouse</td>\n",
       "      <td>Exec-managerial</td>\n",
       "      <td>Wife</td>\n",
       "      <td>White</td>\n",
       "      <td>Female</td>\n",
       "      <td>15024</td>\n",
       "      <td>0</td>\n",
       "      <td>40</td>\n",
       "      <td>United-States</td>\n",
       "    </tr>\n",
       "  </tbody>\n",
       "</table>\n",
       "<p>30162 rows × 12 columns</p>\n",
       "</div>"
      ],
      "text/plain": [
       "       age         workclass  education_num      marital_status  \\\n",
       "0       39         State-gov             13       Never-married   \n",
       "1       50  Self-emp-not-inc             13  Married-civ-spouse   \n",
       "2       38           Private              9            Divorced   \n",
       "3       53           Private              7  Married-civ-spouse   \n",
       "4       28           Private             13  Married-civ-spouse   \n",
       "...    ...               ...            ...                 ...   \n",
       "30157   27           Private             12  Married-civ-spouse   \n",
       "30158   40           Private              9  Married-civ-spouse   \n",
       "30159   58           Private              9             Widowed   \n",
       "30160   22           Private              9       Never-married   \n",
       "30161   52      Self-emp-inc              9  Married-civ-spouse   \n",
       "\n",
       "              occupation   relationship   race     sex  capital_gain  \\\n",
       "0           Adm-clerical  Not-in-family  White    Male          2174   \n",
       "1        Exec-managerial        Husband  White    Male             0   \n",
       "2      Handlers-cleaners  Not-in-family  White    Male             0   \n",
       "3      Handlers-cleaners        Husband  Black    Male             0   \n",
       "4         Prof-specialty           Wife  Black  Female             0   \n",
       "...                  ...            ...    ...     ...           ...   \n",
       "30157       Tech-support           Wife  White  Female             0   \n",
       "30158  Machine-op-inspct        Husband  White    Male             0   \n",
       "30159       Adm-clerical      Unmarried  White  Female             0   \n",
       "30160       Adm-clerical      Own-child  White    Male             0   \n",
       "30161    Exec-managerial           Wife  White  Female         15024   \n",
       "\n",
       "       capital_loss  hours_per_week native_country  \n",
       "0                 0              40  United-States  \n",
       "1                 0              13  United-States  \n",
       "2                 0              40  United-States  \n",
       "3                 0              40  United-States  \n",
       "4                 0              40           Cuba  \n",
       "...             ...             ...            ...  \n",
       "30157             0              38  United-States  \n",
       "30158             0              40  United-States  \n",
       "30159             0              40  United-States  \n",
       "30160             0              20  United-States  \n",
       "30161             0              40  United-States  \n",
       "\n",
       "[30162 rows x 12 columns]"
      ]
     },
     "execution_count": 4,
     "metadata": {},
     "output_type": "execute_result"
    }
   ],
   "source": [
    "X_train"
   ]
  },
  {
   "cell_type": "code",
   "execution_count": 5,
   "id": "5cb3b7a6",
   "metadata": {},
   "outputs": [
    {
     "data": {
      "text/html": [
       "<div>\n",
       "<style scoped>\n",
       "    .dataframe tbody tr th:only-of-type {\n",
       "        vertical-align: middle;\n",
       "    }\n",
       "\n",
       "    .dataframe tbody tr th {\n",
       "        vertical-align: top;\n",
       "    }\n",
       "\n",
       "    .dataframe thead th {\n",
       "        text-align: right;\n",
       "    }\n",
       "</style>\n",
       "<table border=\"1\" class=\"dataframe\">\n",
       "  <thead>\n",
       "    <tr style=\"text-align: right;\">\n",
       "      <th></th>\n",
       "      <th>target</th>\n",
       "    </tr>\n",
       "  </thead>\n",
       "  <tbody>\n",
       "    <tr>\n",
       "      <th>0</th>\n",
       "      <td>0</td>\n",
       "    </tr>\n",
       "    <tr>\n",
       "      <th>1</th>\n",
       "      <td>0</td>\n",
       "    </tr>\n",
       "    <tr>\n",
       "      <th>2</th>\n",
       "      <td>0</td>\n",
       "    </tr>\n",
       "    <tr>\n",
       "      <th>3</th>\n",
       "      <td>0</td>\n",
       "    </tr>\n",
       "    <tr>\n",
       "      <th>4</th>\n",
       "      <td>0</td>\n",
       "    </tr>\n",
       "    <tr>\n",
       "      <th>...</th>\n",
       "      <td>...</td>\n",
       "    </tr>\n",
       "    <tr>\n",
       "      <th>30157</th>\n",
       "      <td>0</td>\n",
       "    </tr>\n",
       "    <tr>\n",
       "      <th>30158</th>\n",
       "      <td>1</td>\n",
       "    </tr>\n",
       "    <tr>\n",
       "      <th>30159</th>\n",
       "      <td>0</td>\n",
       "    </tr>\n",
       "    <tr>\n",
       "      <th>30160</th>\n",
       "      <td>0</td>\n",
       "    </tr>\n",
       "    <tr>\n",
       "      <th>30161</th>\n",
       "      <td>1</td>\n",
       "    </tr>\n",
       "  </tbody>\n",
       "</table>\n",
       "<p>30162 rows × 1 columns</p>\n",
       "</div>"
      ],
      "text/plain": [
       "       target\n",
       "0           0\n",
       "1           0\n",
       "2           0\n",
       "3           0\n",
       "4           0\n",
       "...       ...\n",
       "30157       0\n",
       "30158       1\n",
       "30159       0\n",
       "30160       0\n",
       "30161       1\n",
       "\n",
       "[30162 rows x 1 columns]"
      ]
     },
     "execution_count": 5,
     "metadata": {},
     "output_type": "execute_result"
    }
   ],
   "source": [
    "y_train"
   ]
  },
  {
   "cell_type": "code",
   "execution_count": 6,
   "id": "f8a20360",
   "metadata": {},
   "outputs": [
    {
     "name": "stdout",
     "output_type": "stream",
     "text": [
      "<class 'pandas.core.frame.DataFrame'>\n",
      "RangeIndex: 30162 entries, 0 to 30161\n",
      "Data columns (total 12 columns):\n",
      " #   Column          Non-Null Count  Dtype \n",
      "---  ------          --------------  ----- \n",
      " 0   age             30162 non-null  int64 \n",
      " 1   workclass       30162 non-null  object\n",
      " 2   education_num   30162 non-null  int64 \n",
      " 3   marital_status  30162 non-null  object\n",
      " 4   occupation      30162 non-null  object\n",
      " 5   relationship    30162 non-null  object\n",
      " 6   race            30162 non-null  object\n",
      " 7   sex             30162 non-null  object\n",
      " 8   capital_gain    30162 non-null  int64 \n",
      " 9   capital_loss    30162 non-null  int64 \n",
      " 10  hours_per_week  30162 non-null  int64 \n",
      " 11  native_country  30162 non-null  object\n",
      "dtypes: int64(5), object(7)\n",
      "memory usage: 2.8+ MB\n"
     ]
    }
   ],
   "source": [
    "X_train.info()"
   ]
  },
  {
   "cell_type": "code",
   "execution_count": 7,
   "id": "55804643",
   "metadata": {},
   "outputs": [
    {
     "data": {
      "text/html": [
       "<div>\n",
       "<style scoped>\n",
       "    .dataframe tbody tr th:only-of-type {\n",
       "        vertical-align: middle;\n",
       "    }\n",
       "\n",
       "    .dataframe tbody tr th {\n",
       "        vertical-align: top;\n",
       "    }\n",
       "\n",
       "    .dataframe thead th {\n",
       "        text-align: right;\n",
       "    }\n",
       "</style>\n",
       "<table border=\"1\" class=\"dataframe\">\n",
       "  <thead>\n",
       "    <tr style=\"text-align: right;\">\n",
       "      <th></th>\n",
       "      <th>age</th>\n",
       "      <th>education_num</th>\n",
       "      <th>capital_gain</th>\n",
       "      <th>capital_loss</th>\n",
       "      <th>hours_per_week</th>\n",
       "    </tr>\n",
       "  </thead>\n",
       "  <tbody>\n",
       "    <tr>\n",
       "      <th>count</th>\n",
       "      <td>30162.000000</td>\n",
       "      <td>30162.000000</td>\n",
       "      <td>30162.000000</td>\n",
       "      <td>30162.000000</td>\n",
       "      <td>30162.000000</td>\n",
       "    </tr>\n",
       "    <tr>\n",
       "      <th>mean</th>\n",
       "      <td>38.437902</td>\n",
       "      <td>10.121312</td>\n",
       "      <td>1092.007858</td>\n",
       "      <td>88.372489</td>\n",
       "      <td>40.931238</td>\n",
       "    </tr>\n",
       "    <tr>\n",
       "      <th>std</th>\n",
       "      <td>13.134665</td>\n",
       "      <td>2.549995</td>\n",
       "      <td>7406.346497</td>\n",
       "      <td>404.298370</td>\n",
       "      <td>11.979984</td>\n",
       "    </tr>\n",
       "    <tr>\n",
       "      <th>min</th>\n",
       "      <td>17.000000</td>\n",
       "      <td>1.000000</td>\n",
       "      <td>0.000000</td>\n",
       "      <td>0.000000</td>\n",
       "      <td>1.000000</td>\n",
       "    </tr>\n",
       "    <tr>\n",
       "      <th>25%</th>\n",
       "      <td>28.000000</td>\n",
       "      <td>9.000000</td>\n",
       "      <td>0.000000</td>\n",
       "      <td>0.000000</td>\n",
       "      <td>40.000000</td>\n",
       "    </tr>\n",
       "    <tr>\n",
       "      <th>50%</th>\n",
       "      <td>37.000000</td>\n",
       "      <td>10.000000</td>\n",
       "      <td>0.000000</td>\n",
       "      <td>0.000000</td>\n",
       "      <td>40.000000</td>\n",
       "    </tr>\n",
       "    <tr>\n",
       "      <th>75%</th>\n",
       "      <td>47.000000</td>\n",
       "      <td>13.000000</td>\n",
       "      <td>0.000000</td>\n",
       "      <td>0.000000</td>\n",
       "      <td>45.000000</td>\n",
       "    </tr>\n",
       "    <tr>\n",
       "      <th>max</th>\n",
       "      <td>90.000000</td>\n",
       "      <td>16.000000</td>\n",
       "      <td>99999.000000</td>\n",
       "      <td>4356.000000</td>\n",
       "      <td>99.000000</td>\n",
       "    </tr>\n",
       "  </tbody>\n",
       "</table>\n",
       "</div>"
      ],
      "text/plain": [
       "                age  education_num  capital_gain  capital_loss  hours_per_week\n",
       "count  30162.000000   30162.000000  30162.000000  30162.000000    30162.000000\n",
       "mean      38.437902      10.121312   1092.007858     88.372489       40.931238\n",
       "std       13.134665       2.549995   7406.346497    404.298370       11.979984\n",
       "min       17.000000       1.000000      0.000000      0.000000        1.000000\n",
       "25%       28.000000       9.000000      0.000000      0.000000       40.000000\n",
       "50%       37.000000      10.000000      0.000000      0.000000       40.000000\n",
       "75%       47.000000      13.000000      0.000000      0.000000       45.000000\n",
       "max       90.000000      16.000000  99999.000000   4356.000000       99.000000"
      ]
     },
     "execution_count": 7,
     "metadata": {},
     "output_type": "execute_result"
    }
   ],
   "source": [
    "X_train.describe()"
   ]
  },
  {
   "cell_type": "markdown",
   "id": "541cc4f4",
   "metadata": {},
   "source": [
    "### 2. Data Preprocessing"
   ]
  },
  {
   "cell_type": "markdown",
   "id": "32c94756",
   "metadata": {},
   "source": [
    "#### (1) Missing Value"
   ]
  },
  {
   "cell_type": "code",
   "execution_count": 8,
   "id": "61432d58",
   "metadata": {},
   "outputs": [
    {
     "name": "stdout",
     "output_type": "stream",
     "text": [
      "0.75        0.0\n",
      "0.80        0.0\n",
      "0.85        0.0\n",
      "0.90        0.0\n",
      "0.95     5013.0\n",
      "1.00    99999.0\n",
      "Name: capital_gain, dtype: float64\n"
     ]
    }
   ],
   "source": [
    "print(X_train['capital_gain'].quantile([q/20 for q in range(15, 21)]))"
   ]
  },
  {
   "cell_type": "code",
   "execution_count": 9,
   "id": "9fdd74c6",
   "metadata": {},
   "outputs": [
    {
     "name": "stdout",
     "output_type": "stream",
     "text": [
      "0.75       0.0\n",
      "0.80       0.0\n",
      "0.85       0.0\n",
      "0.90       0.0\n",
      "0.95       0.0\n",
      "1.00    4356.0\n",
      "Name: capital_loss, dtype: float64\n"
     ]
    }
   ],
   "source": [
    "print(X_train['capital_loss'].quantile([q/20 for q in range(15, 21)]))"
   ]
  },
  {
   "cell_type": "markdown",
   "id": "d4f33610",
   "metadata": {},
   "source": [
    "### 3. Data Modeling"
   ]
  },
  {
   "cell_type": "markdown",
   "id": "0c7a1919",
   "metadata": {},
   "source": [
    "#### (1) Data Split"
   ]
  },
  {
   "cell_type": "code",
   "execution_count": 10,
   "id": "39249c6d",
   "metadata": {},
   "outputs": [],
   "source": [
    "X_train['capital_gain_yn'] = np.where(X_train['capital_gain']>0, 1, 0)\n",
    "X_train['capital_loss_yn'] = np.where(X_train['capital_loss']>0, 1, 0)\n",
    "\n",
    "X_test['capital_gain_yn'] = np.where(X_test['capital_gain']>0, 1, 0)\n",
    "X_test['capital_loss_yn'] = np.where(X_test['capital_loss']>0, 1, 0)"
   ]
  },
  {
   "cell_type": "code",
   "execution_count": 11,
   "id": "5c1de147",
   "metadata": {},
   "outputs": [],
   "source": [
    "COL_DEL = []\n",
    "COL_NUM = ['age', 'education_num', 'hours_per_week', 'capital_gain', 'capital_loss']\n",
    "COL_CAT = ['workclass', 'marital_status', 'occupation', 'relationship', 'race', 'sex', 'native_country', 'capital_gain_yn', 'capital_loss_yn']\n",
    "COL_Y = ['target']\n",
    "\n",
    "X_train = X_train.drop(COL_DEL, axis=1)\n",
    "X_test = X_test.drop(COL_DEL, axis=1)"
   ]
  },
  {
   "cell_type": "code",
   "execution_count": 12,
   "id": "60c700d3",
   "metadata": {},
   "outputs": [
    {
     "name": "stdout",
     "output_type": "stream",
     "text": [
      "--------------------------------------------------------------------------------\n",
      "age\n",
      "          count      mean        std   min   25%   50%   75%   max\n",
      "target                                                            \n",
      "0       22654.0  36.60806  13.464631  17.0  26.0  34.0  45.0  90.0\n",
      "1        7508.0  43.95911  10.269633  19.0  36.0  43.0  51.0  90.0\n",
      "\n",
      "--------------------------------------------------------------------------------\n",
      "education_num\n",
      "          count       mean       std  min   25%   50%   75%   max\n",
      "target                                                           \n",
      "0       22654.0   9.629116  2.413596  1.0   9.0   9.0  10.0  16.0\n",
      "1        7508.0  11.606420  2.368423  2.0  10.0  12.0  13.0  16.0\n",
      "\n",
      "--------------------------------------------------------------------------------\n",
      "hours_per_week\n",
      "          count       mean        std  min   25%   50%   75%   max\n",
      "target                                                            \n",
      "0       22654.0  39.348592  11.950774  1.0  38.0  40.0  40.0  99.0\n",
      "1        7508.0  45.706580  10.736987  1.0  40.0  40.0  50.0  99.0\n",
      "\n",
      "--------------------------------------------------------------------------------\n",
      "capital_gain\n",
      "          count         mean           std  min  25%  50%  75%      max\n",
      "target                                                                 \n",
      "0       22654.0   148.893838    936.392280  0.0  0.0  0.0  0.0  41310.0\n",
      "1        7508.0  3937.679808  14386.060019  0.0  0.0  0.0  0.0  99999.0\n",
      "\n",
      "--------------------------------------------------------------------------------\n",
      "capital_loss\n",
      "          count        mean         std  min  25%  50%  75%     max\n",
      "target                                                             \n",
      "0       22654.0   53.448000  310.270263  0.0  0.0  0.0  0.0  4356.0\n",
      "1        7508.0  193.750666  592.825590  0.0  0.0  0.0  0.0  3683.0\n",
      "\n"
     ]
    }
   ],
   "source": [
    "train_df = pd.concat([X_train, y_train], axis=1)\n",
    "\n",
    "for _col in COL_NUM:\n",
    "    print('-'*80)\n",
    "    print(_col)\n",
    "    print(train_df.groupby(COL_Y)[_col].describe(), end='\\n\\n')"
   ]
  },
  {
   "cell_type": "code",
   "execution_count": 13,
   "id": "594c5f20",
   "metadata": {},
   "outputs": [
    {
     "name": "stdout",
     "output_type": "stream",
     "text": [
      "          workclass    target\n",
      "3      Self-emp-inc  0.558659\n",
      "0       Federal-gov  0.387063\n",
      "1         Local-gov  0.294630\n",
      "4  Self-emp-not-inc  0.285714\n",
      "5         State-gov  0.268960\n",
      "2           Private  0.218792\n",
      "6       Without-pay  0.000000\n",
      "\n",
      "          marital_status    target\n",
      "1      Married-AF-spouse  0.476190\n",
      "2     Married-civ-spouse  0.454959\n",
      "0               Divorced  0.107262\n",
      "6                Widowed  0.096735\n",
      "3  Married-spouse-absent  0.083784\n",
      "5              Separated  0.070288\n",
      "4          Never-married  0.048324\n",
      "\n",
      "           occupation    target\n",
      "3     Exec-managerial  0.485220\n",
      "9      Prof-specialty  0.448489\n",
      "10    Protective-serv  0.326087\n",
      "12       Tech-support  0.304825\n",
      "11              Sales  0.270647\n",
      "2        Craft-repair  0.225310\n",
      "13   Transport-moving  0.202926\n",
      "0        Adm-clerical  0.133835\n",
      "6   Machine-op-inspct  0.124619\n",
      "4     Farming-fishing  0.116279\n",
      "1        Armed-Forces  0.111111\n",
      "5   Handlers-cleaners  0.061481\n",
      "7       Other-service  0.041096\n",
      "8     Priv-house-serv  0.006993\n",
      "\n",
      "     relationship    target\n",
      "5            Wife  0.493599\n",
      "0         Husband  0.455669\n",
      "1   Not-in-family  0.106523\n",
      "4       Unmarried  0.066314\n",
      "2  Other-relative  0.039370\n",
      "3       Own-child  0.014330\n",
      "\n",
      "                 race    target\n",
      "1  Asian-Pac-Islander  0.277095\n",
      "4               White  0.263718\n",
      "2               Black  0.129925\n",
      "0  Amer-Indian-Eskimo  0.118881\n",
      "3               Other  0.090909\n",
      "\n",
      "      sex    target\n",
      "1    Male  0.313837\n",
      "0  Female  0.113678\n",
      "\n",
      "                native_country    target\n",
      "35                      Taiwan  0.452381\n",
      "9                       France  0.444444\n",
      "19                        Iran  0.428571\n",
      "18                       India  0.400000\n",
      "23                       Japan  0.389831\n",
      "0                     Cambodia  0.388889\n",
      "40                  Yugoslavia  0.375000\n",
      "21                       Italy  0.352941\n",
      "8                      England  0.348837\n",
      "10                     Germany  0.343750\n",
      "1                       Canada  0.336449\n",
      "29                 Philippines  0.319149\n",
      "16                        Hong  0.315789\n",
      "2                        China  0.294118\n",
      "11                      Greece  0.275862\n",
      "4                         Cuba  0.271739\n",
      "38               United-States  0.254327\n",
      "17                     Hungary  0.230769\n",
      "20                     Ireland  0.208333\n",
      "34                       South  0.197183\n",
      "30                      Poland  0.196429\n",
      "33                    Scotland  0.181818\n",
      "36                    Thailand  0.176471\n",
      "6                      Ecuador  0.148148\n",
      "22                     Jamaica  0.125000\n",
      "31                    Portugal  0.117647\n",
      "24                        Laos  0.117647\n",
      "37             Trinadad&Tobago  0.111111\n",
      "32                 Puerto-Rico  0.110092\n",
      "13                       Haiti  0.095238\n",
      "7                  El-Salvador  0.090000\n",
      "15                    Honduras  0.083333\n",
      "39                     Vietnam  0.078125\n",
      "28                        Peru  0.066667\n",
      "26                   Nicaragua  0.060606\n",
      "25                      Mexico  0.054098\n",
      "12                   Guatemala  0.047619\n",
      "3                     Columbia  0.035714\n",
      "5           Dominican-Republic  0.029851\n",
      "27  Outlying-US(Guam-USVI-etc)  0.000000\n",
      "14          Holand-Netherlands  0.000000\n",
      "\n",
      "   capital_gain_yn    target\n",
      "1                1  0.628448\n",
      "0                0  0.214053\n",
      "\n",
      "   capital_loss_yn    target\n",
      "1                1  0.516468\n",
      "0                0  0.235636\n",
      "\n"
     ]
    }
   ],
   "source": [
    "for _col in COL_CAT:\n",
    "    print(train_df.groupby(_col, as_index=False)[COL_Y].mean().sort_values(by=COL_Y, ascending=False), end='\\n\\n')"
   ]
  },
  {
   "cell_type": "markdown",
   "id": "fcdb01cf",
   "metadata": {},
   "source": [
    "#### (2) Label Encoding"
   ]
  },
  {
   "cell_type": "code",
   "execution_count": 14,
   "id": "961f9534",
   "metadata": {},
   "outputs": [],
   "source": [
    "from sklearn.preprocessing import LabelEncoder\n",
    "\n",
    "X = pd.concat([X_train, X_test])\n",
    "\n",
    "for _col in COL_CAT:\n",
    "    le = LabelEncoder()\n",
    "    le.fit(X_train[_col])\n",
    "    X_train[_col] = le.transform(X_train[_col])\n",
    "    X_test[_col] = le.transform(X_test[_col])"
   ]
  },
  {
   "cell_type": "code",
   "execution_count": 15,
   "id": "770d4df8",
   "metadata": {},
   "outputs": [],
   "source": [
    "from sklearn.model_selection import train_test_split\n",
    "\n",
    "X_tr, X_val, y_tr, y_val = train_test_split(X_train, y_train, test_size=0.3, stratify=y_train)"
   ]
  },
  {
   "cell_type": "markdown",
   "id": "3efa3cf2",
   "metadata": {},
   "source": [
    "#### (3) Scaling"
   ]
  },
  {
   "cell_type": "code",
   "execution_count": 16,
   "id": "38fe5d28",
   "metadata": {},
   "outputs": [],
   "source": [
    "from sklearn.preprocessing import StandardScaler\n",
    "\n",
    "scaler = StandardScaler()\n",
    "\n",
    "X_tr[COL_NUM] = scaler.fit_transform(X_tr[COL_NUM])\n",
    "X_val[COL_NUM] = scaler.transform(X_val[COL_NUM])\n",
    "X_test[COL_NUM] = scaler.transform(X_test[COL_NUM])"
   ]
  },
  {
   "cell_type": "markdown",
   "id": "b1458086",
   "metadata": {},
   "source": [
    "### 4. Modeling"
   ]
  },
  {
   "cell_type": "code",
   "execution_count": 17,
   "id": "b769287a",
   "metadata": {},
   "outputs": [
    {
     "data": {
      "text/plain": [
       "RandomForestClassifier()"
      ]
     },
     "execution_count": 17,
     "metadata": {},
     "output_type": "execute_result"
    }
   ],
   "source": [
    "from sklearn.ensemble import RandomForestClassifier\n",
    "\n",
    "model_rf = RandomForestClassifier()\n",
    "model_rf.fit(X_tr, y_tr.values.ravel())"
   ]
  },
  {
   "cell_type": "code",
   "execution_count": 18,
   "id": "cfa2ca84",
   "metadata": {},
   "outputs": [
    {
     "data": {
      "text/plain": [
       "XGBClassifier(base_score=0.5, booster='gbtree', callbacks=None,\n",
       "              colsample_bylevel=1, colsample_bynode=1, colsample_bytree=1,\n",
       "              early_stopping_rounds=None, enable_categorical=False,\n",
       "              eval_metric=None, feature_types=None, gamma=0, gpu_id=-1,\n",
       "              grow_policy='depthwise', importance_type=None,\n",
       "              interaction_constraints='', learning_rate=0.300000012,\n",
       "              max_bin=256, max_cat_threshold=64, max_cat_to_onehot=4,\n",
       "              max_delta_step=0, max_depth=6, max_leaves=0, min_child_weight=1,\n",
       "              missing=nan, monotone_constraints='()', n_estimators=100,\n",
       "              n_jobs=0, num_parallel_tree=1, predictor='auto', random_state=0, ...)"
      ]
     },
     "execution_count": 18,
     "metadata": {},
     "output_type": "execute_result"
    }
   ],
   "source": [
    "from xgboost import XGBClassifier\n",
    "\n",
    "model_xgb1 = XGBClassifier()\n",
    "model_xgb1.fit(X_tr, y_tr.values.ravel())"
   ]
  },
  {
   "cell_type": "code",
   "execution_count": 19,
   "id": "3c9da07d",
   "metadata": {},
   "outputs": [
    {
     "name": "stdout",
     "output_type": "stream",
     "text": [
      "[0]\tvalidation_0-auc:0.89893\n",
      "[10]\tvalidation_0-auc:0.91099\n",
      "[20]\tvalidation_0-auc:0.91516\n",
      "[30]\tvalidation_0-auc:0.91719\n",
      "[40]\tvalidation_0-auc:0.91847\n",
      "[50]\tvalidation_0-auc:0.91992\n",
      "[60]\tvalidation_0-auc:0.92080\n",
      "[70]\tvalidation_0-auc:0.92158\n",
      "[80]\tvalidation_0-auc:0.92190\n",
      "[90]\tvalidation_0-auc:0.92220\n",
      "[100]\tvalidation_0-auc:0.92226\n",
      "[110]\tvalidation_0-auc:0.92203\n",
      "[120]\tvalidation_0-auc:0.92180\n",
      "[130]\tvalidation_0-auc:0.92165\n",
      "[140]\tvalidation_0-auc:0.92154\n",
      "[141]\tvalidation_0-auc:0.92144\n"
     ]
    },
    {
     "data": {
      "text/plain": [
       "XGBClassifier(base_score=0.5, booster='gbtree', callbacks=None,\n",
       "              colsample_bylevel=1, colsample_bynode=1, colsample_bytree=1,\n",
       "              early_stopping_rounds=50, enable_categorical=False,\n",
       "              eval_metric='auc', feature_types=None, gamma=0, gpu_id=-1,\n",
       "              grow_policy='depthwise', importance_type=None,\n",
       "              interaction_constraints='', learning_rate=0.1, max_bin=256,\n",
       "              max_cat_threshold=64, max_cat_to_onehot=4, max_delta_step=0,\n",
       "              max_depth=10, max_leaves=0, min_child_weight=1, missing=nan,\n",
       "              monotone_constraints='()', n_estimators=1000, n_jobs=0,\n",
       "              num_parallel_tree=1, predictor='auto', random_state=0, ...)"
      ]
     },
     "execution_count": 19,
     "metadata": {},
     "output_type": "execute_result"
    }
   ],
   "source": [
    "model_xgb2 = XGBClassifier(n_estimators=1000, learning_rate=0.1, max_depth=10, eval_metric='auc', early_stopping_rounds=50)\n",
    "model_xgb2.fit(X_tr, y_tr.values.ravel(), eval_set=[(X_val, y_val)], verbose=10)"
   ]
  },
  {
   "cell_type": "markdown",
   "id": "0fc0b9e3",
   "metadata": {},
   "source": [
    "### 5. Model Evaluation"
   ]
  },
  {
   "cell_type": "code",
   "execution_count": 20,
   "id": "eff03343",
   "metadata": {},
   "outputs": [
    {
     "name": "stdout",
     "output_type": "stream",
     "text": [
      "0.8920229081840777\n",
      "0.9230703598991407\n"
     ]
    }
   ],
   "source": [
    "from sklearn.metrics import roc_auc_score\n",
    "\n",
    "y_pred_rf = model_rf.predict_proba(X_val)\n",
    "y_pred_xgb1 = model_xgb1.predict_proba(X_val)\n",
    "\n",
    "score_rf = roc_auc_score(y_val, y_pred_rf[:, 1])\n",
    "score_xgb1 = roc_auc_score(y_val, y_pred_xgb1[:, 1]) \n",
    "\n",
    "print(score_rf)\n",
    "print(score_xgb1)"
   ]
  },
  {
   "cell_type": "markdown",
   "id": "38bb48f5",
   "metadata": {},
   "source": [
    "### 6. Save Result"
   ]
  },
  {
   "cell_type": "code",
   "execution_count": 21,
   "id": "6decbc27",
   "metadata": {},
   "outputs": [],
   "source": [
    "pd.DataFrame({'index': X_val.index, 'target': y_pred_xgb1[:,1]}).to_csv('./result.csv', index=False)"
   ]
  },
  {
   "cell_type": "markdown",
   "id": "e660ab66",
   "metadata": {},
   "source": [
    "---"
   ]
  },
  {
   "cell_type": "markdown",
   "id": "86b7f710",
   "metadata": {},
   "source": [
    "#### 변수 중요도 확인"
   ]
  },
  {
   "cell_type": "code",
   "execution_count": 22,
   "id": "454d968d",
   "metadata": {},
   "outputs": [
    {
     "name": "stdout",
     "output_type": "stream",
     "text": [
      "            feature     fi_rf    fi_xgb\n",
      "0               age  0.218571  0.032371\n",
      "1         workclass  0.049377  0.020624\n",
      "2     education_num  0.137750  0.108964\n",
      "3    marital_status  0.067609  0.106762\n",
      "4        occupation  0.086742  0.033564\n",
      "5      relationship  0.114458  0.376843\n",
      "6              race  0.016806  0.018667\n",
      "7               sex  0.013360  0.032075\n",
      "8      capital_gain  0.101953  0.163475\n",
      "9      capital_loss  0.032350  0.062023\n",
      "10   hours_per_week  0.112129  0.030281\n",
      "11   native_country  0.019298  0.014352\n",
      "12  capital_gain_yn  0.022624  0.000000\n",
      "13  capital_loss_yn  0.006972  0.000000\n"
     ]
    }
   ],
   "source": [
    "print(pd.DataFrame({'feature': X_tr.columns, 'fi_rf': model_rf.feature_importances_, 'fi_xgb': model_xgb1.feature_importances_}))"
   ]
  },
  {
   "cell_type": "markdown",
   "id": "104501a4",
   "metadata": {},
   "source": [
    "(끝)"
   ]
  },
  {
   "cell_type": "markdown",
   "id": "6d07e510",
   "metadata": {},
   "source": [
    "<hr style=\"border:2px solid gray\">"
   ]
  },
  {
   "cell_type": "markdown",
   "id": "3b24c1f5",
   "metadata": {},
   "source": [
    "# + 추가"
   ]
  },
  {
   "cell_type": "markdown",
   "id": "e79caa52",
   "metadata": {},
   "source": [
    "### ( 3. 데이터 모형 구축 )"
   ]
  },
  {
   "cell_type": "markdown",
   "id": "dc7adf42",
   "metadata": {},
   "source": [
    "#### (1) 스케일링"
   ]
  },
  {
   "cell_type": "code",
   "execution_count": 23,
   "id": "0b9b0318",
   "metadata": {},
   "outputs": [],
   "source": [
    "# 비교적 덜 중요한 capital_gain_yn, capital_loss_yn 변수를 제거하고 하이퍼 파라미터 튜닝\n",
    "\n",
    "COL_DEL = ['capital_gain_yn', 'capital_loss_yn']\n",
    "\n",
    "X_tr = X_tr.drop(COL_DEL, axis=1)\n",
    "X_val = X_val.drop(COL_DEL, axis=1)\n",
    "X_test = X_test.drop(COL_DEL, axis=1)"
   ]
  },
  {
   "cell_type": "markdown",
   "id": "e0337d9e",
   "metadata": {},
   "source": [
    "### ( 4. 모델링  - RandomForest )"
   ]
  },
  {
   "cell_type": "markdown",
   "id": "323651de",
   "metadata": {},
   "source": [
    "#### (1) grid_params라는 딕셔너리에 하이퍼파라미터 조합 저장"
   ]
  },
  {
   "cell_type": "code",
   "execution_count": 24,
   "id": "5e8b819d",
   "metadata": {},
   "outputs": [
    {
     "data": {
      "text/plain": [
       "GridSearchCV(cv=5, estimator=RandomForestClassifier(),\n",
       "             param_grid={'max_depth': [5, 10, 15],\n",
       "                         'min_samples_leaf': [1, 2, 4],\n",
       "                         'min_samples_split': [2, 5, 10],\n",
       "                         'n_estimators': [50, 100, 200]})"
      ]
     },
     "execution_count": 24,
     "metadata": {},
     "output_type": "execute_result"
    }
   ],
   "source": [
    "from sklearn.model_selection import GridSearchCV\n",
    "\n",
    "grid_params = { \n",
    "    'n_estimators': [50, 100, 200],\n",
    "    'max_depth': [5, 10, 15],\n",
    "    'min_samples_split': [2, 5, 10],\n",
    "    'min_samples_leaf': [1, 2, 4]\n",
    "}\n",
    "\n",
    "rf_cv = GridSearchCV(estimator=model_rf, param_grid=grid_params, cv=5)\n",
    "rf_cv.fit(X_train, y_train.values.ravel()) "
   ]
  },
  {
   "cell_type": "code",
   "execution_count": 25,
   "id": "4ed9588b",
   "metadata": {},
   "outputs": [
    {
     "name": "stdout",
     "output_type": "stream",
     "text": [
      "   mean_fit_time  std_fit_time  mean_score_time  std_score_time  \\\n",
      "0       0.301990      0.009584         0.023140        0.001161   \n",
      "1       0.690956      0.044739         0.052259        0.005751   \n",
      "2       1.306695      0.034540         0.092156        0.005662   \n",
      "3       0.315564      0.013033         0.023931        0.003021   \n",
      "4       0.608174      0.041020         0.042872        0.000620   \n",
      "\n",
      "  param_max_depth param_min_samples_leaf param_min_samples_split  \\\n",
      "0               5                      1                       2   \n",
      "1               5                      1                       2   \n",
      "2               5                      1                       2   \n",
      "3               5                      1                       5   \n",
      "4               5                      1                       5   \n",
      "\n",
      "  param_n_estimators                                             params  \\\n",
      "0                 50  {'max_depth': 5, 'min_samples_leaf': 1, 'min_s...   \n",
      "1                100  {'max_depth': 5, 'min_samples_leaf': 1, 'min_s...   \n",
      "2                200  {'max_depth': 5, 'min_samples_leaf': 1, 'min_s...   \n",
      "3                 50  {'max_depth': 5, 'min_samples_leaf': 1, 'min_s...   \n",
      "4                100  {'max_depth': 5, 'min_samples_leaf': 1, 'min_s...   \n",
      "\n",
      "   split0_test_score  split1_test_score  split2_test_score  split3_test_score  \\\n",
      "0           0.842201           0.844356           0.850464           0.844828   \n",
      "1           0.841207           0.844025           0.849967           0.846817   \n",
      "2           0.836566           0.843527           0.849801           0.849138   \n",
      "3           0.838886           0.840544           0.849138           0.848143   \n",
      "4           0.839715           0.842533           0.851293           0.848806   \n",
      "\n",
      "   split4_test_score  mean_test_score  std_test_score  rank_test_score  \n",
      "0           0.848475         0.846065        0.002985               60  \n",
      "1           0.848475         0.846098        0.003142               59  \n",
      "2           0.848641         0.845534        0.005006               71  \n",
      "3           0.850630         0.845468        0.004793               72  \n",
      "4           0.848475         0.846164        0.004322               58  \n"
     ]
    }
   ],
   "source": [
    "print(pd.DataFrame(rf_cv.cv_results_).head())"
   ]
  },
  {
   "cell_type": "code",
   "execution_count": 26,
   "id": "536600c8",
   "metadata": {},
   "outputs": [
    {
     "name": "stdout",
     "output_type": "stream",
     "text": [
      "{'max_depth': 15, 'min_samples_leaf': 1, 'min_samples_split': 2, 'n_estimators': 200}\n"
     ]
    }
   ],
   "source": [
    "print(rf_cv.best_params_)"
   ]
  },
  {
   "cell_type": "code",
   "execution_count": 27,
   "id": "3e1353e2",
   "metadata": {},
   "outputs": [
    {
     "name": "stdout",
     "output_type": "stream",
     "text": [
      "0.9187973040033596\n"
     ]
    }
   ],
   "source": [
    "model_rf2 = RandomForestClassifier(n_estimators=50\n",
    "                                   , max_depth=15\n",
    "                                   , min_samples_leaf=1\n",
    "                                   , min_samples_split=5)\n",
    "model_rf2.fit(X_tr, y_tr.values.ravel())\n",
    "\n",
    "y_pred_rf2 = model_rf2.predict_proba(X_val)\n",
    "score_rf2 = roc_auc_score(y_val, y_pred_rf2[:, 1])\n",
    "\n",
    "print(score_rf2)"
   ]
  },
  {
   "cell_type": "markdown",
   "id": "c05e770e",
   "metadata": {},
   "source": [
    "### ( 4. 모델링  -  XGBoost )"
   ]
  },
  {
   "cell_type": "markdown",
   "id": "5637b7b7",
   "metadata": {},
   "source": [
    "#### (1) grid_params라는 딕셔너리에 하이퍼파라미터 조합 저장"
   ]
  },
  {
   "cell_type": "code",
   "execution_count": 28,
   "id": "b6a2520e",
   "metadata": {},
   "outputs": [
    {
     "data": {
      "text/plain": [
       "GridSearchCV(cv=5,\n",
       "             estimator=XGBClassifier(base_score=0.5, booster='gbtree',\n",
       "                                     callbacks=None, colsample_bylevel=1,\n",
       "                                     colsample_bynode=1, colsample_bytree=1,\n",
       "                                     early_stopping_rounds=None,\n",
       "                                     enable_categorical=False, eval_metric=None,\n",
       "                                     feature_types=None, gamma=0, gpu_id=-1,\n",
       "                                     grow_policy='depthwise',\n",
       "                                     importance_type=None,\n",
       "                                     interaction_constraints='',\n",
       "                                     learning_rate=0.300000012, max_bin=256,\n",
       "                                     max_cat_threshold=64, max_cat_to_onehot=4,\n",
       "                                     max_delta_step=0, max_depth=6,\n",
       "                                     max_leaves=0, min_child_weight=1,\n",
       "                                     missing=nan, monotone_constraints='()',\n",
       "                                     n_estimators=100, n_jobs=0,\n",
       "                                     num_parallel_tree=1, predictor='auto',\n",
       "                                     random_state=0, ...),\n",
       "             param_grid={'colsample_bytree': [0.6, 0.8],\n",
       "                         'max_depth': [3, 5, 7, 10], 'min_child_weight': [1, 2],\n",
       "                         'subsample': [0.6, 0.8]})"
      ]
     },
     "execution_count": 28,
     "metadata": {},
     "output_type": "execute_result"
    }
   ],
   "source": [
    "grid_params = {'max_depth': [3, 5, 7, 10], \n",
    "               'min_child_weight': [1, 2], \n",
    "               'colsample_bytree': [0.6, 0.8],\n",
    "               'subsample': [0.6, 0.8]}\n",
    "\n",
    "xgb_cv = GridSearchCV(estimator=model_xgb1, param_grid=grid_params, cv=5)\n",
    "xgb_cv.fit(X_tr, y_tr.values.ravel())"
   ]
  },
  {
   "cell_type": "code",
   "execution_count": 29,
   "id": "c5b9a803",
   "metadata": {},
   "outputs": [
    {
     "name": "stdout",
     "output_type": "stream",
     "text": [
      "{'colsample_bytree': 0.6, 'max_depth': 3, 'min_child_weight': 1, 'subsample': 0.6}\n"
     ]
    }
   ],
   "source": [
    "print(xgb_cv.best_params_)"
   ]
  },
  {
   "cell_type": "code",
   "execution_count": 30,
   "id": "e3e07971",
   "metadata": {},
   "outputs": [
    {
     "name": "stdout",
     "output_type": "stream",
     "text": [
      "[0]\tvalidation_0-auc:0.86762\n",
      "[10]\tvalidation_0-auc:0.91634\n",
      "[20]\tvalidation_0-auc:0.91878\n",
      "[30]\tvalidation_0-auc:0.91980\n",
      "[40]\tvalidation_0-auc:0.92053\n",
      "[50]\tvalidation_0-auc:0.92126\n",
      "[60]\tvalidation_0-auc:0.92241\n",
      "[70]\tvalidation_0-auc:0.92310\n",
      "[80]\tvalidation_0-auc:0.92397\n",
      "[90]\tvalidation_0-auc:0.92506\n",
      "[100]\tvalidation_0-auc:0.92584\n",
      "[110]\tvalidation_0-auc:0.92629\n",
      "[120]\tvalidation_0-auc:0.92673\n",
      "[130]\tvalidation_0-auc:0.92700\n",
      "[140]\tvalidation_0-auc:0.92721\n",
      "[150]\tvalidation_0-auc:0.92747\n",
      "[160]\tvalidation_0-auc:0.92754\n",
      "[170]\tvalidation_0-auc:0.92766\n",
      "[180]\tvalidation_0-auc:0.92761\n",
      "[190]\tvalidation_0-auc:0.92769\n",
      "[200]\tvalidation_0-auc:0.92781\n",
      "[210]\tvalidation_0-auc:0.92772\n",
      "[220]\tvalidation_0-auc:0.92775\n",
      "[230]\tvalidation_0-auc:0.92774\n",
      "[240]\tvalidation_0-auc:0.92776\n",
      "[250]\tvalidation_0-auc:0.92773\n",
      "[260]\tvalidation_0-auc:0.92770\n",
      "[270]\tvalidation_0-auc:0.92790\n",
      "[280]\tvalidation_0-auc:0.92792\n",
      "[290]\tvalidation_0-auc:0.92774\n",
      "[300]\tvalidation_0-auc:0.92776\n",
      "[310]\tvalidation_0-auc:0.92778\n",
      "[320]\tvalidation_0-auc:0.92780\n",
      "[330]\tvalidation_0-auc:0.92768\n",
      "[331]\tvalidation_0-auc:0.92767\n",
      "0.9279363205112693\n"
     ]
    }
   ],
   "source": [
    "params = {'colsample_bytree': 0.6,\n",
    "          'max_depth': 7,\n",
    "          'min_child_weight': 1,\n",
    "          'subsample': 0.8}\n",
    "\n",
    "model_xgb3 = XGBClassifier(n_estimators=1000, learning_rate=0.05, early_stopping_rounds=50, eval_metric='auc')\n",
    "model_xgb3.set_params(**params)\n",
    "\n",
    "model_xgb3.fit(X_tr, y_tr, eval_set=[(X_val, y_val)], verbose=10)\n",
    "\n",
    "print(model_xgb3.best_score)"
   ]
  },
  {
   "cell_type": "markdown",
   "id": "77230204",
   "metadata": {},
   "source": [
    "### ( 5. 결과 저장 )"
   ]
  },
  {
   "cell_type": "code",
   "execution_count": 31,
   "id": "162e745b",
   "metadata": {},
   "outputs": [],
   "source": [
    "pred = model_xgb3.predict_proba(X_test)[:,1]"
   ]
  },
  {
   "cell_type": "code",
   "execution_count": 32,
   "id": "ce4156ee",
   "metadata": {},
   "outputs": [],
   "source": [
    "pd.DataFrame({'index': X_test.index, 'target': pred}).to_csv('./result.csv', index=False)"
   ]
  }
 ],
 "metadata": {
  "kernelspec": {
   "display_name": "Python 3 (ipykernel)",
   "language": "python",
   "name": "python3"
  },
  "language_info": {
   "codemirror_mode": {
    "name": "ipython",
    "version": 3
   },
   "file_extension": ".py",
   "mimetype": "text/x-python",
   "name": "python",
   "nbconvert_exporter": "python",
   "pygments_lexer": "ipython3",
   "version": "3.9.13"
  }
 },
 "nbformat": 4,
 "nbformat_minor": 5
}
