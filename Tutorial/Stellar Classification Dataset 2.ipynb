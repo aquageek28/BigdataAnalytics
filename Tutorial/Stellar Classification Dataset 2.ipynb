{
 "cells": [
  {
   "cell_type": "markdown",
   "id": "771941fb",
   "metadata": {},
   "source": [
    "# Stellar Classification Dataset - SDSS17"
   ]
  },
  {
   "cell_type": "markdown",
   "id": "bdc7bdd2",
   "metadata": {},
   "source": [
    "### Classification of Stars, Galaxies and Quasars. Sloan Digital Sky Survey DR17"
   ]
  },
  {
   "cell_type": "markdown",
   "id": "860713d7",
   "metadata": {},
   "source": [
    "https://www.kaggle.com/datasets/fedesoriano/stellar-classification-dataset-sdss17"
   ]
  },
  {
   "cell_type": "markdown",
   "id": "2f51ca42",
   "metadata": {},
   "source": [
    "![image.png](../Images/Stellar.png)"
   ]
  },
  {
   "cell_type": "markdown",
   "id": "2aab502c",
   "metadata": {},
   "source": [
    "### Library & Data Import"
   ]
  },
  {
   "cell_type": "code",
   "execution_count": null,
   "id": "9eec9f41",
   "metadata": {},
   "outputs": [],
   "source": [
    "import numpy as np\n",
    "import pandas as pd"
   ]
  },
  {
   "cell_type": "code",
   "execution_count": 2,
   "id": "bb25bcab",
   "metadata": {},
   "outputs": [],
   "source": [
    "X_test = pd.read_csv('../Datasets/Stellar_X_test.csv')\n",
    "X_train = pd.read_csv('../Datasets/Stellar_X_train.csv')\n",
    "y_train = pd.read_csv('../Datasets/Stellar_y_train.csv')"
   ]
  },
  {
   "cell_type": "markdown",
   "id": "f44ab158",
   "metadata": {},
   "source": [
    "### 1. Data Exploration"
   ]
  },
  {
   "cell_type": "code",
   "execution_count": 3,
   "id": "3cc4e0de",
   "metadata": {},
   "outputs": [
    {
     "data": {
      "text/html": [
       "<div>\n",
       "<style scoped>\n",
       "    .dataframe tbody tr th:only-of-type {\n",
       "        vertical-align: middle;\n",
       "    }\n",
       "\n",
       "    .dataframe tbody tr th {\n",
       "        vertical-align: top;\n",
       "    }\n",
       "\n",
       "    .dataframe thead th {\n",
       "        text-align: right;\n",
       "    }\n",
       "</style>\n",
       "<table border=\"1\" class=\"dataframe\">\n",
       "  <thead>\n",
       "    <tr style=\"text-align: right;\">\n",
       "      <th></th>\n",
       "      <th>galaxy</th>\n",
       "    </tr>\n",
       "  </thead>\n",
       "  <tbody>\n",
       "    <tr>\n",
       "      <th>0</th>\n",
       "      <td>1</td>\n",
       "    </tr>\n",
       "    <tr>\n",
       "      <th>1</th>\n",
       "      <td>0</td>\n",
       "    </tr>\n",
       "    <tr>\n",
       "      <th>2</th>\n",
       "      <td>1</td>\n",
       "    </tr>\n",
       "    <tr>\n",
       "      <th>3</th>\n",
       "      <td>0</td>\n",
       "    </tr>\n",
       "    <tr>\n",
       "      <th>4</th>\n",
       "      <td>1</td>\n",
       "    </tr>\n",
       "    <tr>\n",
       "      <th>...</th>\n",
       "      <td>...</td>\n",
       "    </tr>\n",
       "    <tr>\n",
       "      <th>69995</th>\n",
       "      <td>0</td>\n",
       "    </tr>\n",
       "    <tr>\n",
       "      <th>69996</th>\n",
       "      <td>1</td>\n",
       "    </tr>\n",
       "    <tr>\n",
       "      <th>69997</th>\n",
       "      <td>0</td>\n",
       "    </tr>\n",
       "    <tr>\n",
       "      <th>69998</th>\n",
       "      <td>1</td>\n",
       "    </tr>\n",
       "    <tr>\n",
       "      <th>69999</th>\n",
       "      <td>1</td>\n",
       "    </tr>\n",
       "  </tbody>\n",
       "</table>\n",
       "<p>70000 rows × 1 columns</p>\n",
       "</div>"
      ],
      "text/plain": [
       "       galaxy\n",
       "0           1\n",
       "1           0\n",
       "2           1\n",
       "3           0\n",
       "4           1\n",
       "...       ...\n",
       "69995       0\n",
       "69996       1\n",
       "69997       0\n",
       "69998       1\n",
       "69999       1\n",
       "\n",
       "[70000 rows x 1 columns]"
      ]
     },
     "execution_count": 3,
     "metadata": {},
     "output_type": "execute_result"
    }
   ],
   "source": [
    "y_train"
   ]
  },
  {
   "cell_type": "markdown",
   "id": "12623351",
   "metadata": {},
   "source": [
    "### 2. Data Preprocessing"
   ]
  },
  {
   "cell_type": "markdown",
   "id": "36586b0e",
   "metadata": {},
   "source": [
    "#### (1) Missing Value"
   ]
  },
  {
   "cell_type": "code",
   "execution_count": 4,
   "id": "42ff6652",
   "metadata": {},
   "outputs": [],
   "source": [
    "# 이상치 제거\n",
    "y_train = y_train.loc[X_train.u != -9999]\n",
    "X_train = X_train.loc[X_train.u != -9999]"
   ]
  },
  {
   "cell_type": "code",
   "execution_count": 5,
   "id": "1d809dd6",
   "metadata": {},
   "outputs": [],
   "source": [
    "X_train.reset_index(drop=True, inplace=True)\n",
    "y_train.reset_index(drop=True, inplace=True)"
   ]
  },
  {
   "cell_type": "markdown",
   "id": "2cc6c59b",
   "metadata": {},
   "source": [
    "### 3. Data Modeling"
   ]
  },
  {
   "cell_type": "markdown",
   "id": "48c03c36",
   "metadata": {},
   "source": [
    "#### (1) Data Split"
   ]
  },
  {
   "cell_type": "code",
   "execution_count": null,
   "id": "9ee3d86d",
   "metadata": {},
   "outputs": [],
   "source": [
    "COL_NUM = ['alpha', 'delta', 'u', 'g', 'r', 'i', 'z', 'redshift']\n",
    "COL_CAT = ['run_ID', 'rerun_ID', 'cam_col', 'field_ID', 'plate']\n",
    "\n",
    "X_train[COL_CAT] = X_train[COL_CAT].astype('object')\n",
    "X_test[COL_CAT] = X_test[COL_CAT].astype('object')"
   ]
  },
  {
   "cell_type": "markdown",
   "id": "478c8a1c",
   "metadata": {},
   "source": [
    "#### (2) Label Encoding"
   ]
  },
  {
   "cell_type": "code",
   "execution_count": 7,
   "id": "9a843389",
   "metadata": {},
   "outputs": [],
   "source": [
    "from sklearn.preprocessing import LabelEncoder\n",
    "\n",
    "X = pd.concat([X_train, X_test])\n",
    "\n",
    "y_TRAIN = y_train['galaxy']\n",
    "\n",
    "for _col in COL_CAT:\n",
    "    lbe = LabelEncoder()\n",
    "    lbe.fit(X[_col])\n",
    "    X_train[_col] = lbe.transform(X_train[_col])\n",
    "    X_test[_col] = lbe.transform(X_test[_col])"
   ]
  },
  {
   "cell_type": "code",
   "execution_count": 8,
   "id": "4d873efd",
   "metadata": {},
   "outputs": [
    {
     "name": "stdout",
     "output_type": "stream",
     "text": [
      "(52499, 13) (17500, 13) (52499,) (17500,)\n"
     ]
    }
   ],
   "source": [
    "from sklearn.model_selection import train_test_split\n",
    "\n",
    "xtrain, xtest, ytrain, ytest = train_test_split(X_train, y_TRAIN, test_size = 0.25, stratify=y_train, random_state=1234)\n",
    "\n",
    "print(xtrain.shape, xtest.shape, ytrain.shape, ytest.shape)"
   ]
  },
  {
   "cell_type": "markdown",
   "id": "98188e57",
   "metadata": {},
   "source": [
    "#### (3) Scaling"
   ]
  },
  {
   "cell_type": "code",
   "execution_count": 10,
   "id": "18038f1d",
   "metadata": {},
   "outputs": [],
   "source": [
    "from sklearn.preprocessing import MinMaxScaler\n",
    "\n",
    "scaler = MinMaxScaler()\n",
    "\n",
    "scaler.fit(xtrain[COL_NUM])\n",
    "\n",
    "xtrain[COL_NUM] = scaler.transform(xtrain[COL_NUM])\n",
    "xtest[COL_NUM] = scaler.transform(xtest[COL_NUM])"
   ]
  },
  {
   "cell_type": "markdown",
   "id": "1ac38056",
   "metadata": {},
   "source": [
    "### 4. Modeling"
   ]
  },
  {
   "cell_type": "code",
   "execution_count": 12,
   "id": "0c751614",
   "metadata": {},
   "outputs": [],
   "source": [
    "from sklearn.linear_model import LogisticRegression\n",
    "from sklearn.tree import DecisionTreeClassifier\n",
    "from sklearn.ensemble import RandomForestClassifier\n",
    "from xgboost import XGBClassifier"
   ]
  },
  {
   "cell_type": "code",
   "execution_count": 13,
   "id": "55eaeba3",
   "metadata": {},
   "outputs": [],
   "source": [
    "def make_models(xtrain, xtest, ytrain, ytest):\n",
    "    model1 = LogisticRegression(solver='lbfgs', max_iter=1000).fit(xtrain, ytrain)\n",
    "    print('model1', get_scores(model1, xtrain, xtest, ytrain, ytest))\n",
    "\n",
    "    model2 = DecisionTreeClassifier(random_state=0).fit(xtrain, ytrain)\n",
    "    print('model2', get_scores(model2, xtrain, xtest, ytrain, ytest))\n",
    "\n",
    "    for d in range(3, 8):\n",
    "        model2 = DecisionTreeClassifier(max_depth=d, random_state=0).fit(xtrain, ytrain)\n",
    "        print('model2', d, get_scores(model2, xtrain, xtest, ytrain, ytest))\n",
    "\n",
    "    model3 = RandomForestClassifier(random_state=0).fit(xtrain, ytrain)\n",
    "    print('model3', get_scores(model3, xtrain, xtest, ytrain, ytest))\n",
    "\n",
    "    for d in range(3, 8):\n",
    "        model3 = RandomForestClassifier(500, max_depth=d, random_state=0).fit(xtrain, ytrain)\n",
    "        print('model3', d, get_scores(model3, xtrain, xtest, ytrain, ytest))\n",
    "\n",
    "    model4 = XGBClassifier(eval_metric='logloss').fit(xtrain, ytrain)\n",
    "    print('model4', get_scores(model4, xtrain, xtest, ytrain, ytest))"
   ]
  },
  {
   "cell_type": "markdown",
   "id": "13aa19ed",
   "metadata": {},
   "source": [
    "### 5. Model Evaluation"
   ]
  },
  {
   "cell_type": "code",
   "execution_count": 14,
   "id": "c3a3179a",
   "metadata": {},
   "outputs": [],
   "source": [
    "from sklearn.metrics import roc_auc_score\n",
    "\n",
    "def get_scores(model, xtrain, xtest, ytrain, ytest):\n",
    "    A = model.score(xtrain, ytrain)\n",
    "    \n",
    "    ypred = model.predict_proba(xtest)[:, 1]\n",
    "    \n",
    "    B = roc_auc_score(ytest, ypred)\n",
    "    \n",
    "    return f'{A:.4} {B:.4}'"
   ]
  },
  {
   "cell_type": "code",
   "execution_count": 15,
   "id": "b8585536",
   "metadata": {},
   "outputs": [
    {
     "name": "stdout",
     "output_type": "stream",
     "text": [
      "model1 0.7893 0.8198\n",
      "model2 1.0 0.9617\n",
      "model2 3 0.9474 0.9623\n",
      "model2 4 0.9615 0.972\n",
      "model2 5 0.9618 0.9804\n",
      "model2 6 0.9668 0.9856\n",
      "model2 7 0.9747 0.9867\n",
      "model3 1.0 0.9946\n",
      "model3 3 0.9398 0.9823\n",
      "model3 4 0.9558 0.9861\n",
      "model3 5 0.9603 0.9887\n",
      "model3 6 0.9659 0.9903\n",
      "model3 7 0.9715 0.9918\n",
      "model4 0.9914 0.9953\n"
     ]
    }
   ],
   "source": [
    "make_models(xtrain, xtest, ytrain, ytest)"
   ]
  },
  {
   "cell_type": "markdown",
   "id": "169bf7f6",
   "metadata": {},
   "source": [
    "### 6. Save Result"
   ]
  },
  {
   "cell_type": "code",
   "execution_count": null,
   "id": "a8672a69",
   "metadata": {},
   "outputs": [],
   "source": [
    "final_model = RandomForestClassifier(max_depth=4, random_state=0).fit(xtrain, ytrain)\n",
    "\n",
    "print('final model', get_scores(final_model, xtrain, xtest, ytrain, ytest))"
   ]
  },
  {
   "cell_type": "code",
   "execution_count": null,
   "id": "47ec6b87",
   "metadata": {},
   "outputs": [],
   "source": [
    "pred = model_rf.predict_proba(X_test)[:,1]\n",
    "\n",
    "pd.DataFrame({'index': X_test.index, 'target': pred}).to_csv('./result.csv', index=False)"
   ]
  }
 ],
 "metadata": {
  "kernelspec": {
   "display_name": "Python 3 (ipykernel)",
   "language": "python",
   "name": "python3"
  },
  "language_info": {
   "codemirror_mode": {
    "name": "ipython",
    "version": 3
   },
   "file_extension": ".py",
   "mimetype": "text/x-python",
   "name": "python",
   "nbconvert_exporter": "python",
   "pygments_lexer": "ipython3",
   "version": "3.9.13"
  }
 },
 "nbformat": 4,
 "nbformat_minor": 5
}
