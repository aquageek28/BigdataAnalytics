{
 "cells": [
  {
   "cell_type": "markdown",
   "id": "7d48d25c",
   "metadata": {},
   "source": [
    "# Palmer Archipelago (Antarctica) penguin"
   ]
  },
  {
   "cell_type": "markdown",
   "id": "9ab36f5f",
   "metadata": {},
   "source": [
    "### The dataset contains data for 344 penguins. There are 3 different species of penguins in this dataset, <br>collected from 3 islands in the Palmer Archipelago, Antarctica."
   ]
  },
  {
   "cell_type": "markdown",
   "id": "50526306",
   "metadata": {},
   "source": [
    "![image.png](../Images/Penguins.png)"
   ]
  },
  {
   "cell_type": "markdown",
   "id": "3d0de08d",
   "metadata": {},
   "source": [
    "해당 데이터는 2014년 남극 팽귄 공동체 내 생태학적 성적 이형성과 환경적 변동성에 관한 연구 데이터이며, 다양한 종의 펭귄들의 서식지와 주요 신체 크기와 무게에 대한 7가지 정도의 데이터로 이루어져 있다. Palmer's penguin이라는 데이터 세트로도 알려져 있으며 시각화 패키지중 하나인 seaborn 패키지에 예제 데이터 세트로 존재한다.\n",
    "\n",
    "주어진 학습용 데이터(penguin_X_train.csv, penguin_X_test.csv)를 활용하여 해당 펭귄의 무게를 예측하는 회귀 모형을 만든 후,<br> 이를 평가용 데이터(penguin_X_test.csv)에 적용하여 얻은 무게 예측값을 .csv 파일로 저장한다."
   ]
  },
  {
   "cell_type": "markdown",
   "id": "864c02dc",
   "metadata": {},
   "source": [
    "### Library & Data Import"
   ]
  },
  {
   "cell_type": "code",
   "execution_count": 1,
   "id": "176433c8",
   "metadata": {},
   "outputs": [],
   "source": [
    "import pandas as pd\n",
    "import numpy as np"
   ]
  },
  {
   "cell_type": "code",
   "execution_count": 2,
   "id": "5ab79bf9",
   "metadata": {},
   "outputs": [],
   "source": [
    "X_test = pd.read_csv('../Datasets/Penguin_X_test.csv')\n",
    "X_train = pd.read_csv('../Datasets/Penguin_X_train.csv')\n",
    "y_train = pd.read_csv('../Datasets/Penguin_y_train.csv')"
   ]
  },
  {
   "cell_type": "markdown",
   "id": "217e6ae4",
   "metadata": {},
   "source": [
    "### 1. Data Exploration"
   ]
  },
  {
   "cell_type": "code",
   "execution_count": 3,
   "id": "f776531d",
   "metadata": {},
   "outputs": [
    {
     "data": {
      "text/html": [
       "<div>\n",
       "<style scoped>\n",
       "    .dataframe tbody tr th:only-of-type {\n",
       "        vertical-align: middle;\n",
       "    }\n",
       "\n",
       "    .dataframe tbody tr th {\n",
       "        vertical-align: top;\n",
       "    }\n",
       "\n",
       "    .dataframe thead th {\n",
       "        text-align: right;\n",
       "    }\n",
       "</style>\n",
       "<table border=\"1\" class=\"dataframe\">\n",
       "  <thead>\n",
       "    <tr style=\"text-align: right;\">\n",
       "      <th></th>\n",
       "      <th>species</th>\n",
       "      <th>island</th>\n",
       "      <th>sex</th>\n",
       "      <th>bill_length_mm</th>\n",
       "      <th>bill_depth_mm</th>\n",
       "      <th>flipper_length_mm</th>\n",
       "    </tr>\n",
       "  </thead>\n",
       "  <tbody>\n",
       "    <tr>\n",
       "      <th>0</th>\n",
       "      <td>Adelie</td>\n",
       "      <td>Torgersen</td>\n",
       "      <td>MALE</td>\n",
       "      <td>42.1</td>\n",
       "      <td>19.1</td>\n",
       "      <td>195.0</td>\n",
       "    </tr>\n",
       "    <tr>\n",
       "      <th>1</th>\n",
       "      <td>Gentoo</td>\n",
       "      <td>Biscoe</td>\n",
       "      <td>MALE</td>\n",
       "      <td>45.5</td>\n",
       "      <td>15.0</td>\n",
       "      <td>220.0</td>\n",
       "    </tr>\n",
       "    <tr>\n",
       "      <th>2</th>\n",
       "      <td>Adelie</td>\n",
       "      <td>Biscoe</td>\n",
       "      <td>MALE</td>\n",
       "      <td>40.6</td>\n",
       "      <td>18.8</td>\n",
       "      <td>193.0</td>\n",
       "    </tr>\n",
       "    <tr>\n",
       "      <th>3</th>\n",
       "      <td>Adelie</td>\n",
       "      <td>Dream</td>\n",
       "      <td>FEMALE</td>\n",
       "      <td>39.5</td>\n",
       "      <td>17.8</td>\n",
       "      <td>188.0</td>\n",
       "    </tr>\n",
       "    <tr>\n",
       "      <th>4</th>\n",
       "      <td>Gentoo</td>\n",
       "      <td>Biscoe</td>\n",
       "      <td>FEMALE</td>\n",
       "      <td>45.1</td>\n",
       "      <td>14.5</td>\n",
       "      <td>207.0</td>\n",
       "    </tr>\n",
       "    <tr>\n",
       "      <th>...</th>\n",
       "      <td>...</td>\n",
       "      <td>...</td>\n",
       "      <td>...</td>\n",
       "      <td>...</td>\n",
       "      <td>...</td>\n",
       "      <td>...</td>\n",
       "    </tr>\n",
       "    <tr>\n",
       "      <th>96</th>\n",
       "      <td>Gentoo</td>\n",
       "      <td>Biscoe</td>\n",
       "      <td>MALE</td>\n",
       "      <td>45.2</td>\n",
       "      <td>15.8</td>\n",
       "      <td>215.0</td>\n",
       "    </tr>\n",
       "    <tr>\n",
       "      <th>97</th>\n",
       "      <td>Adelie</td>\n",
       "      <td>Torgersen</td>\n",
       "      <td>FEMALE</td>\n",
       "      <td>40.3</td>\n",
       "      <td>18.0</td>\n",
       "      <td>195.0</td>\n",
       "    </tr>\n",
       "    <tr>\n",
       "      <th>98</th>\n",
       "      <td>Gentoo</td>\n",
       "      <td>Biscoe</td>\n",
       "      <td>FEMALE</td>\n",
       "      <td>46.5</td>\n",
       "      <td>14.5</td>\n",
       "      <td>213.0</td>\n",
       "    </tr>\n",
       "    <tr>\n",
       "      <th>99</th>\n",
       "      <td>Gentoo</td>\n",
       "      <td>Biscoe</td>\n",
       "      <td>MALE</td>\n",
       "      <td>49.6</td>\n",
       "      <td>15.0</td>\n",
       "      <td>216.0</td>\n",
       "    </tr>\n",
       "    <tr>\n",
       "      <th>100</th>\n",
       "      <td>Adelie</td>\n",
       "      <td>Torgersen</td>\n",
       "      <td>FEMALE</td>\n",
       "      <td>39.6</td>\n",
       "      <td>17.2</td>\n",
       "      <td>196.0</td>\n",
       "    </tr>\n",
       "  </tbody>\n",
       "</table>\n",
       "<p>101 rows × 6 columns</p>\n",
       "</div>"
      ],
      "text/plain": [
       "    species     island     sex  bill_length_mm  bill_depth_mm  \\\n",
       "0    Adelie  Torgersen    MALE            42.1           19.1   \n",
       "1    Gentoo     Biscoe    MALE            45.5           15.0   \n",
       "2    Adelie     Biscoe    MALE            40.6           18.8   \n",
       "3    Adelie      Dream  FEMALE            39.5           17.8   \n",
       "4    Gentoo     Biscoe  FEMALE            45.1           14.5   \n",
       "..      ...        ...     ...             ...            ...   \n",
       "96   Gentoo     Biscoe    MALE            45.2           15.8   \n",
       "97   Adelie  Torgersen  FEMALE            40.3           18.0   \n",
       "98   Gentoo     Biscoe  FEMALE            46.5           14.5   \n",
       "99   Gentoo     Biscoe    MALE            49.6           15.0   \n",
       "100  Adelie  Torgersen  FEMALE            39.6           17.2   \n",
       "\n",
       "     flipper_length_mm  \n",
       "0                195.0  \n",
       "1                220.0  \n",
       "2                193.0  \n",
       "3                188.0  \n",
       "4                207.0  \n",
       "..                 ...  \n",
       "96               215.0  \n",
       "97               195.0  \n",
       "98               213.0  \n",
       "99               216.0  \n",
       "100              196.0  \n",
       "\n",
       "[101 rows x 6 columns]"
      ]
     },
     "execution_count": 3,
     "metadata": {},
     "output_type": "execute_result"
    }
   ],
   "source": [
    "X_test"
   ]
  },
  {
   "cell_type": "code",
   "execution_count": 4,
   "id": "3f9effac",
   "metadata": {},
   "outputs": [
    {
     "data": {
      "text/html": [
       "<div>\n",
       "<style scoped>\n",
       "    .dataframe tbody tr th:only-of-type {\n",
       "        vertical-align: middle;\n",
       "    }\n",
       "\n",
       "    .dataframe tbody tr th {\n",
       "        vertical-align: top;\n",
       "    }\n",
       "\n",
       "    .dataframe thead th {\n",
       "        text-align: right;\n",
       "    }\n",
       "</style>\n",
       "<table border=\"1\" class=\"dataframe\">\n",
       "  <thead>\n",
       "    <tr style=\"text-align: right;\">\n",
       "      <th></th>\n",
       "      <th>species</th>\n",
       "      <th>island</th>\n",
       "      <th>sex</th>\n",
       "      <th>bill_length_mm</th>\n",
       "      <th>bill_depth_mm</th>\n",
       "      <th>flipper_length_mm</th>\n",
       "    </tr>\n",
       "  </thead>\n",
       "  <tbody>\n",
       "    <tr>\n",
       "      <th>0</th>\n",
       "      <td>Adelie</td>\n",
       "      <td>Torgersen</td>\n",
       "      <td>NaN</td>\n",
       "      <td>42.0</td>\n",
       "      <td>20.2</td>\n",
       "      <td>190.0</td>\n",
       "    </tr>\n",
       "    <tr>\n",
       "      <th>1</th>\n",
       "      <td>Gentoo</td>\n",
       "      <td>Biscoe</td>\n",
       "      <td>FEMALE</td>\n",
       "      <td>43.5</td>\n",
       "      <td>15.2</td>\n",
       "      <td>213.0</td>\n",
       "    </tr>\n",
       "    <tr>\n",
       "      <th>2</th>\n",
       "      <td>Adelie</td>\n",
       "      <td>Torgersen</td>\n",
       "      <td>MALE</td>\n",
       "      <td>42.8</td>\n",
       "      <td>18.5</td>\n",
       "      <td>195.0</td>\n",
       "    </tr>\n",
       "    <tr>\n",
       "      <th>3</th>\n",
       "      <td>Chinstrap</td>\n",
       "      <td>Dream</td>\n",
       "      <td>MALE</td>\n",
       "      <td>53.5</td>\n",
       "      <td>19.9</td>\n",
       "      <td>205.0</td>\n",
       "    </tr>\n",
       "    <tr>\n",
       "      <th>4</th>\n",
       "      <td>Gentoo</td>\n",
       "      <td>Biscoe</td>\n",
       "      <td>MALE</td>\n",
       "      <td>50.2</td>\n",
       "      <td>14.3</td>\n",
       "      <td>218.0</td>\n",
       "    </tr>\n",
       "    <tr>\n",
       "      <th>...</th>\n",
       "      <td>...</td>\n",
       "      <td>...</td>\n",
       "      <td>...</td>\n",
       "      <td>...</td>\n",
       "      <td>...</td>\n",
       "      <td>...</td>\n",
       "    </tr>\n",
       "    <tr>\n",
       "      <th>235</th>\n",
       "      <td>Chinstrap</td>\n",
       "      <td>Dream</td>\n",
       "      <td>FEMALE</td>\n",
       "      <td>46.6</td>\n",
       "      <td>17.8</td>\n",
       "      <td>193.0</td>\n",
       "    </tr>\n",
       "    <tr>\n",
       "      <th>236</th>\n",
       "      <td>Gentoo</td>\n",
       "      <td>Biscoe</td>\n",
       "      <td>MALE</td>\n",
       "      <td>49.8</td>\n",
       "      <td>15.9</td>\n",
       "      <td>229.0</td>\n",
       "    </tr>\n",
       "    <tr>\n",
       "      <th>237</th>\n",
       "      <td>Adelie</td>\n",
       "      <td>Torgersen</td>\n",
       "      <td>FEMALE</td>\n",
       "      <td>34.6</td>\n",
       "      <td>17.2</td>\n",
       "      <td>189.0</td>\n",
       "    </tr>\n",
       "    <tr>\n",
       "      <th>238</th>\n",
       "      <td>Chinstrap</td>\n",
       "      <td>Dream</td>\n",
       "      <td>FEMALE</td>\n",
       "      <td>45.9</td>\n",
       "      <td>17.1</td>\n",
       "      <td>190.0</td>\n",
       "    </tr>\n",
       "    <tr>\n",
       "      <th>239</th>\n",
       "      <td>Gentoo</td>\n",
       "      <td>Biscoe</td>\n",
       "      <td>FEMALE</td>\n",
       "      <td>41.7</td>\n",
       "      <td>14.7</td>\n",
       "      <td>210.0</td>\n",
       "    </tr>\n",
       "  </tbody>\n",
       "</table>\n",
       "<p>240 rows × 6 columns</p>\n",
       "</div>"
      ],
      "text/plain": [
       "       species     island     sex  bill_length_mm  bill_depth_mm  \\\n",
       "0       Adelie  Torgersen     NaN            42.0           20.2   \n",
       "1       Gentoo     Biscoe  FEMALE            43.5           15.2   \n",
       "2       Adelie  Torgersen    MALE            42.8           18.5   \n",
       "3    Chinstrap      Dream    MALE            53.5           19.9   \n",
       "4       Gentoo     Biscoe    MALE            50.2           14.3   \n",
       "..         ...        ...     ...             ...            ...   \n",
       "235  Chinstrap      Dream  FEMALE            46.6           17.8   \n",
       "236     Gentoo     Biscoe    MALE            49.8           15.9   \n",
       "237     Adelie  Torgersen  FEMALE            34.6           17.2   \n",
       "238  Chinstrap      Dream  FEMALE            45.9           17.1   \n",
       "239     Gentoo     Biscoe  FEMALE            41.7           14.7   \n",
       "\n",
       "     flipper_length_mm  \n",
       "0                190.0  \n",
       "1                213.0  \n",
       "2                195.0  \n",
       "3                205.0  \n",
       "4                218.0  \n",
       "..                 ...  \n",
       "235              193.0  \n",
       "236              229.0  \n",
       "237              189.0  \n",
       "238              190.0  \n",
       "239              210.0  \n",
       "\n",
       "[240 rows x 6 columns]"
      ]
     },
     "execution_count": 4,
     "metadata": {},
     "output_type": "execute_result"
    }
   ],
   "source": [
    "X_train"
   ]
  },
  {
   "cell_type": "code",
   "execution_count": 5,
   "id": "8f48afdf",
   "metadata": {},
   "outputs": [
    {
     "data": {
      "text/html": [
       "<div>\n",
       "<style scoped>\n",
       "    .dataframe tbody tr th:only-of-type {\n",
       "        vertical-align: middle;\n",
       "    }\n",
       "\n",
       "    .dataframe tbody tr th {\n",
       "        vertical-align: top;\n",
       "    }\n",
       "\n",
       "    .dataframe thead th {\n",
       "        text-align: right;\n",
       "    }\n",
       "</style>\n",
       "<table border=\"1\" class=\"dataframe\">\n",
       "  <thead>\n",
       "    <tr style=\"text-align: right;\">\n",
       "      <th></th>\n",
       "      <th>body_mass_g</th>\n",
       "    </tr>\n",
       "  </thead>\n",
       "  <tbody>\n",
       "    <tr>\n",
       "      <th>0</th>\n",
       "      <td>4250.0</td>\n",
       "    </tr>\n",
       "    <tr>\n",
       "      <th>1</th>\n",
       "      <td>4650.0</td>\n",
       "    </tr>\n",
       "    <tr>\n",
       "      <th>2</th>\n",
       "      <td>4250.0</td>\n",
       "    </tr>\n",
       "    <tr>\n",
       "      <th>3</th>\n",
       "      <td>4500.0</td>\n",
       "    </tr>\n",
       "    <tr>\n",
       "      <th>4</th>\n",
       "      <td>5700.0</td>\n",
       "    </tr>\n",
       "    <tr>\n",
       "      <th>...</th>\n",
       "      <td>...</td>\n",
       "    </tr>\n",
       "    <tr>\n",
       "      <th>235</th>\n",
       "      <td>3800.0</td>\n",
       "    </tr>\n",
       "    <tr>\n",
       "      <th>236</th>\n",
       "      <td>5950.0</td>\n",
       "    </tr>\n",
       "    <tr>\n",
       "      <th>237</th>\n",
       "      <td>3200.0</td>\n",
       "    </tr>\n",
       "    <tr>\n",
       "      <th>238</th>\n",
       "      <td>3575.0</td>\n",
       "    </tr>\n",
       "    <tr>\n",
       "      <th>239</th>\n",
       "      <td>4700.0</td>\n",
       "    </tr>\n",
       "  </tbody>\n",
       "</table>\n",
       "<p>240 rows × 1 columns</p>\n",
       "</div>"
      ],
      "text/plain": [
       "     body_mass_g\n",
       "0         4250.0\n",
       "1         4650.0\n",
       "2         4250.0\n",
       "3         4500.0\n",
       "4         5700.0\n",
       "..           ...\n",
       "235       3800.0\n",
       "236       5950.0\n",
       "237       3200.0\n",
       "238       3575.0\n",
       "239       4700.0\n",
       "\n",
       "[240 rows x 1 columns]"
      ]
     },
     "execution_count": 5,
     "metadata": {},
     "output_type": "execute_result"
    }
   ],
   "source": [
    "y_train"
   ]
  },
  {
   "cell_type": "code",
   "execution_count": 6,
   "id": "779a3eaa",
   "metadata": {},
   "outputs": [
    {
     "name": "stdout",
     "output_type": "stream",
     "text": [
      "<class 'pandas.core.frame.DataFrame'>\n",
      "RangeIndex: 240 entries, 0 to 239\n",
      "Data columns (total 6 columns):\n",
      " #   Column             Non-Null Count  Dtype  \n",
      "---  ------             --------------  -----  \n",
      " 0   species            240 non-null    object \n",
      " 1   island             240 non-null    object \n",
      " 2   sex                232 non-null    object \n",
      " 3   bill_length_mm     238 non-null    float64\n",
      " 4   bill_depth_mm      238 non-null    float64\n",
      " 5   flipper_length_mm  238 non-null    float64\n",
      "dtypes: float64(3), object(3)\n",
      "memory usage: 11.4+ KB\n"
     ]
    }
   ],
   "source": [
    "X_train.info()"
   ]
  },
  {
   "cell_type": "markdown",
   "id": "e10cbbb1",
   "metadata": {},
   "source": [
    "### 2. Data Preprocessing"
   ]
  },
  {
   "cell_type": "markdown",
   "id": "39cfcae6",
   "metadata": {},
   "source": [
    "#### (1) Missing Value"
   ]
  },
  {
   "cell_type": "code",
   "execution_count": 7,
   "id": "81e774cd",
   "metadata": {},
   "outputs": [
    {
     "name": "stdout",
     "output_type": "stream",
     "text": [
      "    species     island  sex  bill_length_mm  bill_depth_mm  flipper_length_mm  \\\n",
      "0    Adelie  Torgersen  NaN            42.0           20.2              190.0   \n",
      "6    Gentoo     Biscoe  NaN            44.5           14.3              216.0   \n",
      "43   Gentoo     Biscoe  NaN             NaN            NaN                NaN   \n",
      "66   Adelie  Torgersen  NaN            37.8           17.3              180.0   \n",
      "88   Gentoo     Biscoe  NaN            47.3           13.8              216.0   \n",
      "89   Adelie  Torgersen  NaN            37.8           17.1              186.0   \n",
      "110  Gentoo     Biscoe  NaN            44.5           15.7              217.0   \n",
      "229  Adelie  Torgersen  NaN             NaN            NaN                NaN   \n",
      "\n",
      "     body_mass_g  \n",
      "0         4250.0  \n",
      "6         4100.0  \n",
      "43           NaN  \n",
      "66        3700.0  \n",
      "88        4725.0  \n",
      "89        3300.0  \n",
      "110       4875.0  \n",
      "229          NaN  \n"
     ]
    }
   ],
   "source": [
    "train =  pd.concat([X_train, y_train], axis=1)\n",
    "print(train.loc[(train.sex.isna()) | (train.bill_length_mm.isna()) | (train.bill_depth_mm.isna()) | (train.flipper_length_mm.isna()) | (train.body_mass_g.isna())])"
   ]
  },
  {
   "cell_type": "code",
   "execution_count": 8,
   "id": "e9965e3b",
   "metadata": {},
   "outputs": [],
   "source": [
    "train = train.dropna()\n",
    "train.reset_index(drop=True, inplace=True)"
   ]
  },
  {
   "cell_type": "markdown",
   "id": "b3247ea6",
   "metadata": {},
   "source": [
    "### 3. Data Modeling"
   ]
  },
  {
   "cell_type": "markdown",
   "id": "9ce654bb",
   "metadata": {},
   "source": [
    "#### (1) Data Split"
   ]
  },
  {
   "cell_type": "code",
   "execution_count": 9,
   "id": "29244925",
   "metadata": {},
   "outputs": [],
   "source": [
    "Species = X_test['species'].copy()\n",
    "\n",
    "X_train['sex'] = X_train['sex'].fillna(X_train['sex'].value_counts().idxmax())\n",
    "X_train['bill_length_mm'] = X_train['bill_length_mm'].fillna(X_train['bill_length_mm'].mean())\n",
    "X_train['bill_depth_mm'] = X_train['bill_depth_mm'].fillna(X_train['bill_depth_mm'].mean())\n",
    "X_train['flipper_length_mm'] = X_train['flipper_length_mm'].fillna(X_train['flipper_length_mm'].mean())\n",
    "y_train['body_mass_g'] = y_train['body_mass_g'].fillna(y_train['body_mass_g'].mean())"
   ]
  },
  {
   "cell_type": "markdown",
   "id": "3f49847d",
   "metadata": {},
   "source": [
    "#### (2) One-Hot Encoding"
   ]
  },
  {
   "cell_type": "code",
   "execution_count": 10,
   "id": "abd4d9b9",
   "metadata": {},
   "outputs": [],
   "source": [
    "from sklearn.preprocessing import OneHotEncoder\n",
    "\n",
    "X_train_cat = X_train.select_dtypes('object').copy()\n",
    "X_test_cat = X_test.select_dtypes('object').copy()\n",
    "\n",
    "ohe = OneHotEncoder(sparse=False)\n",
    "ohe.fit(X_train_cat)\n",
    "\n",
    "X_train_ohe = ohe.transform(X_train_cat)\n",
    "X_test_ohe = ohe.transform(X_test_cat)"
   ]
  },
  {
   "cell_type": "markdown",
   "id": "5505e6fa",
   "metadata": {},
   "source": [
    "#### (2) Scaling"
   ]
  },
  {
   "cell_type": "code",
   "execution_count": 11,
   "id": "b57e62f7",
   "metadata": {},
   "outputs": [],
   "source": [
    "from sklearn.preprocessing import MinMaxScaler\n",
    "\n",
    "X_train_num = X_train.select_dtypes(exclude='object').copy()\n",
    "X_test_num = X_test.select_dtypes(exclude='object').copy()\n",
    "\n",
    "scaler = MinMaxScaler()\n",
    "scaler.fit(X_train_num)\n",
    "\n",
    "X_train_sca = scaler.transform(X_train_num)\n",
    "X_test_sca = scaler.transform(X_test_num)"
   ]
  },
  {
   "cell_type": "markdown",
   "id": "5070f3df",
   "metadata": {},
   "source": [
    "#### (3) Data Concat & Split"
   ]
  },
  {
   "cell_type": "code",
   "execution_count": 12,
   "id": "1f444a60",
   "metadata": {},
   "outputs": [
    {
     "name": "stdout",
     "output_type": "stream",
     "text": [
      "(240, 11) (101, 11) (240,)\n"
     ]
    }
   ],
   "source": [
    "X_TRAIN = np.concatenate([X_train_ohe, X_train_sca], axis=1)\n",
    "X_TEST = np.concatenate([X_test_ohe, X_test_sca], axis=1)\n",
    "\n",
    "y_TRAIN = y_train['body_mass_g']\n",
    "\n",
    "print(X_TRAIN.shape, X_TEST.shape, y_TRAIN.shape)"
   ]
  },
  {
   "cell_type": "code",
   "execution_count": 13,
   "id": "2ee757a6",
   "metadata": {},
   "outputs": [
    {
     "name": "stdout",
     "output_type": "stream",
     "text": [
      "(180, 11) (60, 11) (180,) (60,)\n"
     ]
    }
   ],
   "source": [
    "from sklearn.model_selection import train_test_split\n",
    "\n",
    "xtrain, xtest, ytrain, ytest = train_test_split(X_TRAIN, y_TRAIN, test_size=0.25, random_state=2022)\n",
    "\n",
    "print(xtrain.shape, xtest.shape, ytrain.shape, ytest.shape)"
   ]
  },
  {
   "cell_type": "markdown",
   "id": "7a37e0b3",
   "metadata": {},
   "source": [
    "### 4. Modeling"
   ]
  },
  {
   "cell_type": "code",
   "execution_count": 14,
   "id": "8a669b8f",
   "metadata": {},
   "outputs": [],
   "source": [
    "from sklearn.tree import DecisionTreeRegressor\n",
    "from sklearn.ensemble import AdaBoostRegressor\n",
    "from sklearn.ensemble import GradientBoostingRegressor\n",
    "from sklearn.ensemble import RandomForestRegressor\n",
    "\n",
    "def make_models(xtrain, xtest, ytrain, ytest):\n",
    "    model1 = DecisionTreeRegressor(random_state=2022).fit(xtrain, ytrain)\n",
    "    print('model1 0', get_score(model1, xtrain, xtest, ytrain, ytest))\n",
    "    \n",
    "    for d in range(3,8):\n",
    "        model1 = DecisionTreeRegressor(max_depth=d, random_state=2022).fit(xtrain, ytrain)\n",
    "        print('model1', d, get_score(model1, xtrain, xtest, ytrain, ytest))\n",
    "    \n",
    "    base_model = DecisionTreeRegressor(random_state=2022)\n",
    "    model2 = AdaBoostRegressor(n_estimators=500, base_estimator=base_model, random_state=2022).fit(xtrain, ytrain)\n",
    "    print('model2', get_score(model2, xtrain, xtest, ytrain, ytest))\n",
    "    \n",
    "    model3 = GradientBoostingRegressor(random_state=2022).fit(xtrain, ytrain)\n",
    "    print('model3', get_score(model3, xtrain, xtest, ytrain, ytest))\n",
    "    \n",
    "    model4 = RandomForestRegressor(random_state=2022).fit(xtrain, ytrain)\n",
    "    print('model4', get_score(model4, xtrain, xtest, ytrain, ytest))\n",
    "    \n",
    "    for d in range(3,8):\n",
    "        model1 = RandomForestRegressor(n_estimators=500, max_depth=d, random_state=2022).fit(xtrain, ytrain)\n",
    "        print('model4', d, get_score(model4, xtrain, xtest, ytrain, ytest))"
   ]
  },
  {
   "cell_type": "markdown",
   "id": "8083efc2",
   "metadata": {},
   "source": [
    "### 5. Model Evaluation"
   ]
  },
  {
   "cell_type": "code",
   "execution_count": 17,
   "id": "8c0e3b5b",
   "metadata": {},
   "outputs": [],
   "source": [
    "from sklearn.metrics import mean_squared_error\n",
    "\n",
    "def get_score(model, xtrain, xtest, ytrain, ytest):\n",
    "    A = model.score(xtrain, ytrain)\n",
    "    ypred = model.predict(xtest)\n",
    "    B = mean_squared_error(ytest, ypred, squared=False)\n",
    "    \n",
    "    return f'{A:.4} {B:.4}'"
   ]
  },
  {
   "cell_type": "code",
   "execution_count": 18,
   "id": "4ef06944",
   "metadata": {},
   "outputs": [
    {
     "name": "stdout",
     "output_type": "stream",
     "text": [
      "model1 0 1.0 444.5\n",
      "model1 3 0.8575 408.8\n",
      "model1 4 0.8863 366.0\n",
      "model1 5 0.9127 359.0\n",
      "model1 6 0.9303 372.4\n",
      "model1 7 0.9485 387.5\n",
      "model2 0.9992 344.2\n",
      "model3 0.9637 374.5\n",
      "model4 0.9743 344.9\n",
      "model4 3 0.9743 344.9\n",
      "model4 4 0.9743 344.9\n",
      "model4 5 0.9743 344.9\n",
      "model4 6 0.9743 344.9\n",
      "model4 7 0.9743 344.9\n"
     ]
    }
   ],
   "source": [
    "make_models(xtrain, xtest, ytrain, ytest)"
   ]
  },
  {
   "cell_type": "code",
   "execution_count": 19,
   "id": "195220b6",
   "metadata": {},
   "outputs": [
    {
     "name": "stdout",
     "output_type": "stream",
     "text": [
      "final_model 0.9992 344.2\n"
     ]
    }
   ],
   "source": [
    "base_model = DecisionTreeRegressor(random_state=2022)\n",
    "final_model = AdaBoostRegressor(n_estimators=500, base_estimator=base_model, random_state=2022).fit(xtrain, ytrain)\n",
    "print('final_model', get_score(final_model, xtrain, xtest, ytrain, ytest))"
   ]
  },
  {
   "cell_type": "markdown",
   "id": "21504dc9",
   "metadata": {},
   "source": [
    "### 6. Save Result"
   ]
  },
  {
   "cell_type": "code",
   "execution_count": 20,
   "id": "2ccbb870",
   "metadata": {},
   "outputs": [],
   "source": [
    "y_pred = final_model.predict(X_TEST)\n",
    "\n",
    "obj = {\n",
    "    'Species' : Species,\n",
    "    'Body_Mass_g' : y_pred\n",
    "}\n",
    "\n",
    "result = pd.DataFrame(obj)\n",
    "result.to_csv('./result.csv', index=False)"
   ]
  }
 ],
 "metadata": {
  "kernelspec": {
   "display_name": "Python 3 (ipykernel)",
   "language": "python",
   "name": "python3"
  },
  "language_info": {
   "codemirror_mode": {
    "name": "ipython",
    "version": 3
   },
   "file_extension": ".py",
   "mimetype": "text/x-python",
   "name": "python",
   "nbconvert_exporter": "python",
   "pygments_lexer": "ipython3",
   "version": "3.9.13"
  }
 },
 "nbformat": 4,
 "nbformat_minor": 5
}
